{
  "nbformat": 4,
  "nbformat_minor": 0,
  "metadata": {
    "colab": {
      "provenance": []
    },
    "kernelspec": {
      "name": "python3",
      "display_name": "Python 3"
    },
    "language_info": {
      "name": "python"
    }
  },
  "cells": [
    {
      "cell_type": "markdown",
      "source": [
        "## Import the packages"
      ],
      "metadata": {
        "id": "c3Vq3123Eu2m"
      }
    },
    {
      "cell_type": "code",
      "execution_count": 2,
      "metadata": {
        "id": "8Ur2pucbEOp0"
      },
      "outputs": [],
      "source": [
        "import pandas as pd\n",
        "import numpy as np"
      ]
    },
    {
      "cell_type": "markdown",
      "source": [
        "## Import all the datasets"
      ],
      "metadata": {
        "id": "2wllokK-ExqY"
      }
    },
    {
      "cell_type": "markdown",
      "source": [
        "### Test data"
      ],
      "metadata": {
        "id": "e3G_QATJNMtU"
      }
    },
    {
      "cell_type": "code",
      "source": [
        "docstring = pd.read_csv('/content/docstring_test_data.csv')\n",
        "funcom1 = pd.read_csv('/content/funcom1_test_data.csv')\n",
        "hybrid = pd.read_csv('/content/hybridDeepCom_test_data.csv')\n",
        "nscjava = pd.read_csv('/content/ncsJava_test_data.csv')\n",
        "nscpy = pd.read_csv('/content/ncsPy_test_data.csv')\n",
        "codenn = pd.read_csv('/content/codenn_test_data.csv')"
      ],
      "metadata": {
        "id": "XV671HNCEtEr"
      },
      "execution_count": 45,
      "outputs": []
    },
    {
      "cell_type": "markdown",
      "source": [
        "### Generated vs Reference data"
      ],
      "metadata": {
        "id": "a3poqRuGNO4Y"
      }
    },
    {
      "cell_type": "code",
      "source": [
        "nscpy_res = pd.read_csv('/content/ref-gen-result-ncsPy.csv')"
      ],
      "metadata": {
        "id": "LU0FkoM5Rlcy"
      },
      "execution_count": 4,
      "outputs": []
    },
    {
      "cell_type": "code",
      "source": [
        "docstring_res = pd.read_csv('/content/ref-gen-result-docstring.csv')\n",
        "funcom1_res = pd.read_csv('/content/ref-gen-result-funcom1.csv')\n",
        "nscjava_res = pd.read_csv('/content/ref-gen-result-ncsJava.csv')\n",
        "hybrid_res = pd.read_csv('/content/ref-gen-result-hybrid.csv')\n",
        "codenn_res = pd.read_csv('/content/ref-gen-result-codenn.csv')"
      ],
      "metadata": {
        "colab": {
          "base_uri": "https://localhost:8080/",
          "height": 235
        },
        "id": "FvB-Gw--NSg4",
        "outputId": "4a558ce6-8e72-4375-af01-405b07e19383"
      },
      "execution_count": 1,
      "outputs": [
        {
          "output_type": "error",
          "ename": "NameError",
          "evalue": "ignored",
          "traceback": [
            "\u001b[0;31m---------------------------------------------------------------------------\u001b[0m",
            "\u001b[0;31mNameError\u001b[0m                                 Traceback (most recent call last)",
            "\u001b[0;32m<ipython-input-1-19d38b27be23>\u001b[0m in \u001b[0;36m<module>\u001b[0;34m\u001b[0m\n\u001b[0;32m----> 1\u001b[0;31m \u001b[0mdocstring_res\u001b[0m \u001b[0;34m=\u001b[0m \u001b[0mpd\u001b[0m\u001b[0;34m.\u001b[0m\u001b[0mread_csv\u001b[0m\u001b[0;34m(\u001b[0m\u001b[0;34m'/content/ref-gen-result-docstring.csv'\u001b[0m\u001b[0;34m)\u001b[0m\u001b[0;34m\u001b[0m\u001b[0;34m\u001b[0m\u001b[0m\n\u001b[0m\u001b[1;32m      2\u001b[0m \u001b[0mfuncom1_res\u001b[0m \u001b[0;34m=\u001b[0m \u001b[0mpd\u001b[0m\u001b[0;34m.\u001b[0m\u001b[0mread_csv\u001b[0m\u001b[0;34m(\u001b[0m\u001b[0;34m'/content/ref-gen-result-funcom1.csv'\u001b[0m\u001b[0;34m)\u001b[0m\u001b[0;34m\u001b[0m\u001b[0;34m\u001b[0m\u001b[0m\n\u001b[1;32m      3\u001b[0m \u001b[0mnscjava_res\u001b[0m \u001b[0;34m=\u001b[0m \u001b[0mpd\u001b[0m\u001b[0;34m.\u001b[0m\u001b[0mread_csv\u001b[0m\u001b[0;34m(\u001b[0m\u001b[0;34m'/content/ref-gen-result-ncsJava.csv'\u001b[0m\u001b[0;34m)\u001b[0m\u001b[0;34m\u001b[0m\u001b[0;34m\u001b[0m\u001b[0m\n\u001b[1;32m      4\u001b[0m \u001b[0mnscpy_res\u001b[0m \u001b[0;34m=\u001b[0m \u001b[0mpd\u001b[0m\u001b[0;34m.\u001b[0m\u001b[0mread_csv\u001b[0m\u001b[0;34m(\u001b[0m\u001b[0;34m'/content/ref-gen-result-nscPy.csv'\u001b[0m\u001b[0;34m)\u001b[0m\u001b[0;34m\u001b[0m\u001b[0;34m\u001b[0m\u001b[0m\n\u001b[1;32m      5\u001b[0m \u001b[0mhybrid_res\u001b[0m \u001b[0;34m=\u001b[0m \u001b[0mpd\u001b[0m\u001b[0;34m.\u001b[0m\u001b[0mread_csv\u001b[0m\u001b[0;34m(\u001b[0m\u001b[0;34m'/content/ref-gen-result-hybrid.csv'\u001b[0m\u001b[0;34m)\u001b[0m\u001b[0;34m\u001b[0m\u001b[0;34m\u001b[0m\u001b[0m\n",
            "\u001b[0;31mNameError\u001b[0m: name 'pd' is not defined"
          ]
        }
      ]
    },
    {
      "cell_type": "code",
      "source": [
        "docstring"
      ],
      "metadata": {
        "colab": {
          "base_uri": "https://localhost:8080/",
          "height": 424
        },
        "id": "xJzUrmnIYZlf",
        "outputId": "ef79ce88-b457-4b33-e29a-31d3a6120358"
      },
      "execution_count": 28,
      "outputs": [
        {
          "output_type": "execute_result",
          "data": {
            "text/plain": [
              "                                                 comment  \\\n",
              "0      &apos;Get the number of CPU processes on the c...   \n",
              "1      &apos;In@@ fo page ( link from main header ) &...   \n",
              "2      &apos;A decorator that tests that the decorate...   \n",
              "3      &apos;Return a taxon identifier according to N...   \n",
              "4      &apos;Return ``True`` if the url is a safe red...   \n",
              "...                                                  ...   \n",
              "14167  &apos;Get the default realm ( = the immediate ...   \n",
              "14168  &apos;Remove the named PID file if it exists ....   \n",
              "14169  &apos;Re@@ plot a matplotlib figure with plotl...   \n",
              "14170  &apos;Return a fresh instance of the hash obje...   \n",
              "14171  &apos;Return default GnuPG home directory path...   \n",
              "\n",
              "                                              code_words      doc_id  \\\n",
              "0      def get _ num _ cpus ( ) : DCNL DCSP return mu...  train19316   \n",
              "1      def info ( request ) : DCNL DCSP return render...  train31156   \n",
              "2      def returns _ arg ( function ) : DCNL DCSP def...  train19086   \n",
              "3      def saf@@ ename ( name , mrbayes = False ) : D...  train59453   \n",
              "4      def is _ safe _ url ( url , host = None ) : DC...  train61981   \n",
              "...                                                  ...         ...   \n",
              "14167  def pr _ realm ( entity ) : DCNL DCSP if ( not...  train52113   \n",
              "14168  def remove _ existing _ pidfile ( pidfile _ pa...   train5439   \n",
              "14169  def plot _ mpl ( fig , resize = True , strip _...  train33081   \n",
              "14170  def new ( * args , * * kwargs ) : DCNL DCSP da...  train17305   \n",
              "14171  def _ get _ user _ gnupghome ( user ) : DCNL D...  train23103   \n",
              "\n",
              "      split_name                                     tokenized_code  \n",
              "0          train  {def} {get} {num} {cpus} {:} {dcnl} {dcsp} {re...  \n",
              "1          train  {def} {info} {request} {:} {dcnl} {dcsp} {retu...  \n",
              "2          train  {def} {returns} {arg} {function} {:} {dcnl} {d...  \n",
              "3          train  {def} {saf} {@} {@} {ename} {name} {mrbayes} {...  \n",
              "4          train  {def} {is} {safe} {url} {url} {host} {none} {:...  \n",
              "...          ...                                                ...  \n",
              "14167      train  {def} {pr} {realm} {entity} {:} {dcnl} {dcsp} ...  \n",
              "14168      train  {def} {remove} {existing} {pidfile} {pidfile} ...  \n",
              "14169      train  {def} {plot} {mpl} {fig} {resize} {true} {stri...  \n",
              "14170      train  {def} {new} {*} {args} {*} {*} {kwargs} {:} {d...  \n",
              "14171      train  {def} {get} {user} {gnupghome} {user} {:} {dcn...  \n",
              "\n",
              "[14172 rows x 5 columns]"
            ],
            "text/html": [
              "\n",
              "  <div id=\"df-06614b96-4345-43d7-8e56-6153dd215e1d\">\n",
              "    <div class=\"colab-df-container\">\n",
              "      <div>\n",
              "<style scoped>\n",
              "    .dataframe tbody tr th:only-of-type {\n",
              "        vertical-align: middle;\n",
              "    }\n",
              "\n",
              "    .dataframe tbody tr th {\n",
              "        vertical-align: top;\n",
              "    }\n",
              "\n",
              "    .dataframe thead th {\n",
              "        text-align: right;\n",
              "    }\n",
              "</style>\n",
              "<table border=\"1\" class=\"dataframe\">\n",
              "  <thead>\n",
              "    <tr style=\"text-align: right;\">\n",
              "      <th></th>\n",
              "      <th>comment</th>\n",
              "      <th>code_words</th>\n",
              "      <th>doc_id</th>\n",
              "      <th>split_name</th>\n",
              "      <th>tokenized_code</th>\n",
              "    </tr>\n",
              "  </thead>\n",
              "  <tbody>\n",
              "    <tr>\n",
              "      <th>0</th>\n",
              "      <td>&amp;apos;Get the number of CPU processes on the c...</td>\n",
              "      <td>def get _ num _ cpus ( ) : DCNL DCSP return mu...</td>\n",
              "      <td>train19316</td>\n",
              "      <td>train</td>\n",
              "      <td>{def} {get} {num} {cpus} {:} {dcnl} {dcsp} {re...</td>\n",
              "    </tr>\n",
              "    <tr>\n",
              "      <th>1</th>\n",
              "      <td>&amp;apos;In@@ fo page ( link from main header ) &amp;...</td>\n",
              "      <td>def info ( request ) : DCNL DCSP return render...</td>\n",
              "      <td>train31156</td>\n",
              "      <td>train</td>\n",
              "      <td>{def} {info} {request} {:} {dcnl} {dcsp} {retu...</td>\n",
              "    </tr>\n",
              "    <tr>\n",
              "      <th>2</th>\n",
              "      <td>&amp;apos;A decorator that tests that the decorate...</td>\n",
              "      <td>def returns _ arg ( function ) : DCNL DCSP def...</td>\n",
              "      <td>train19086</td>\n",
              "      <td>train</td>\n",
              "      <td>{def} {returns} {arg} {function} {:} {dcnl} {d...</td>\n",
              "    </tr>\n",
              "    <tr>\n",
              "      <th>3</th>\n",
              "      <td>&amp;apos;Return a taxon identifier according to N...</td>\n",
              "      <td>def saf@@ ename ( name , mrbayes = False ) : D...</td>\n",
              "      <td>train59453</td>\n",
              "      <td>train</td>\n",
              "      <td>{def} {saf} {@} {@} {ename} {name} {mrbayes} {...</td>\n",
              "    </tr>\n",
              "    <tr>\n",
              "      <th>4</th>\n",
              "      <td>&amp;apos;Return ``True`` if the url is a safe red...</td>\n",
              "      <td>def is _ safe _ url ( url , host = None ) : DC...</td>\n",
              "      <td>train61981</td>\n",
              "      <td>train</td>\n",
              "      <td>{def} {is} {safe} {url} {url} {host} {none} {:...</td>\n",
              "    </tr>\n",
              "    <tr>\n",
              "      <th>...</th>\n",
              "      <td>...</td>\n",
              "      <td>...</td>\n",
              "      <td>...</td>\n",
              "      <td>...</td>\n",
              "      <td>...</td>\n",
              "    </tr>\n",
              "    <tr>\n",
              "      <th>14167</th>\n",
              "      <td>&amp;apos;Get the default realm ( = the immediate ...</td>\n",
              "      <td>def pr _ realm ( entity ) : DCNL DCSP if ( not...</td>\n",
              "      <td>train52113</td>\n",
              "      <td>train</td>\n",
              "      <td>{def} {pr} {realm} {entity} {:} {dcnl} {dcsp} ...</td>\n",
              "    </tr>\n",
              "    <tr>\n",
              "      <th>14168</th>\n",
              "      <td>&amp;apos;Remove the named PID file if it exists ....</td>\n",
              "      <td>def remove _ existing _ pidfile ( pidfile _ pa...</td>\n",
              "      <td>train5439</td>\n",
              "      <td>train</td>\n",
              "      <td>{def} {remove} {existing} {pidfile} {pidfile} ...</td>\n",
              "    </tr>\n",
              "    <tr>\n",
              "      <th>14169</th>\n",
              "      <td>&amp;apos;Re@@ plot a matplotlib figure with plotl...</td>\n",
              "      <td>def plot _ mpl ( fig , resize = True , strip _...</td>\n",
              "      <td>train33081</td>\n",
              "      <td>train</td>\n",
              "      <td>{def} {plot} {mpl} {fig} {resize} {true} {stri...</td>\n",
              "    </tr>\n",
              "    <tr>\n",
              "      <th>14170</th>\n",
              "      <td>&amp;apos;Return a fresh instance of the hash obje...</td>\n",
              "      <td>def new ( * args , * * kwargs ) : DCNL DCSP da...</td>\n",
              "      <td>train17305</td>\n",
              "      <td>train</td>\n",
              "      <td>{def} {new} {*} {args} {*} {*} {kwargs} {:} {d...</td>\n",
              "    </tr>\n",
              "    <tr>\n",
              "      <th>14171</th>\n",
              "      <td>&amp;apos;Return default GnuPG home directory path...</td>\n",
              "      <td>def _ get _ user _ gnupghome ( user ) : DCNL D...</td>\n",
              "      <td>train23103</td>\n",
              "      <td>train</td>\n",
              "      <td>{def} {get} {user} {gnupghome} {user} {:} {dcn...</td>\n",
              "    </tr>\n",
              "  </tbody>\n",
              "</table>\n",
              "<p>14172 rows × 5 columns</p>\n",
              "</div>\n",
              "      <button class=\"colab-df-convert\" onclick=\"convertToInteractive('df-06614b96-4345-43d7-8e56-6153dd215e1d')\"\n",
              "              title=\"Convert this dataframe to an interactive table.\"\n",
              "              style=\"display:none;\">\n",
              "        \n",
              "  <svg xmlns=\"http://www.w3.org/2000/svg\" height=\"24px\"viewBox=\"0 0 24 24\"\n",
              "       width=\"24px\">\n",
              "    <path d=\"M0 0h24v24H0V0z\" fill=\"none\"/>\n",
              "    <path d=\"M18.56 5.44l.94 2.06.94-2.06 2.06-.94-2.06-.94-.94-2.06-.94 2.06-2.06.94zm-11 1L8.5 8.5l.94-2.06 2.06-.94-2.06-.94L8.5 2.5l-.94 2.06-2.06.94zm10 10l.94 2.06.94-2.06 2.06-.94-2.06-.94-.94-2.06-.94 2.06-2.06.94z\"/><path d=\"M17.41 7.96l-1.37-1.37c-.4-.4-.92-.59-1.43-.59-.52 0-1.04.2-1.43.59L10.3 9.45l-7.72 7.72c-.78.78-.78 2.05 0 2.83L4 21.41c.39.39.9.59 1.41.59.51 0 1.02-.2 1.41-.59l7.78-7.78 2.81-2.81c.8-.78.8-2.07 0-2.86zM5.41 20L4 18.59l7.72-7.72 1.47 1.35L5.41 20z\"/>\n",
              "  </svg>\n",
              "      </button>\n",
              "      \n",
              "  <style>\n",
              "    .colab-df-container {\n",
              "      display:flex;\n",
              "      flex-wrap:wrap;\n",
              "      gap: 12px;\n",
              "    }\n",
              "\n",
              "    .colab-df-convert {\n",
              "      background-color: #E8F0FE;\n",
              "      border: none;\n",
              "      border-radius: 50%;\n",
              "      cursor: pointer;\n",
              "      display: none;\n",
              "      fill: #1967D2;\n",
              "      height: 32px;\n",
              "      padding: 0 0 0 0;\n",
              "      width: 32px;\n",
              "    }\n",
              "\n",
              "    .colab-df-convert:hover {\n",
              "      background-color: #E2EBFA;\n",
              "      box-shadow: 0px 1px 2px rgba(60, 64, 67, 0.3), 0px 1px 3px 1px rgba(60, 64, 67, 0.15);\n",
              "      fill: #174EA6;\n",
              "    }\n",
              "\n",
              "    [theme=dark] .colab-df-convert {\n",
              "      background-color: #3B4455;\n",
              "      fill: #D2E3FC;\n",
              "    }\n",
              "\n",
              "    [theme=dark] .colab-df-convert:hover {\n",
              "      background-color: #434B5C;\n",
              "      box-shadow: 0px 1px 3px 1px rgba(0, 0, 0, 0.15);\n",
              "      filter: drop-shadow(0px 1px 2px rgba(0, 0, 0, 0.3));\n",
              "      fill: #FFFFFF;\n",
              "    }\n",
              "  </style>\n",
              "\n",
              "      <script>\n",
              "        const buttonEl =\n",
              "          document.querySelector('#df-06614b96-4345-43d7-8e56-6153dd215e1d button.colab-df-convert');\n",
              "        buttonEl.style.display =\n",
              "          google.colab.kernel.accessAllowed ? 'block' : 'none';\n",
              "\n",
              "        async function convertToInteractive(key) {\n",
              "          const element = document.querySelector('#df-06614b96-4345-43d7-8e56-6153dd215e1d');\n",
              "          const dataTable =\n",
              "            await google.colab.kernel.invokeFunction('convertToInteractive',\n",
              "                                                     [key], {});\n",
              "          if (!dataTable) return;\n",
              "\n",
              "          const docLinkHtml = 'Like what you see? Visit the ' +\n",
              "            '<a target=\"_blank\" href=https://colab.research.google.com/notebooks/data_table.ipynb>data table notebook</a>'\n",
              "            + ' to learn more about interactive tables.';\n",
              "          element.innerHTML = '';\n",
              "          dataTable['output_type'] = 'display_data';\n",
              "          await google.colab.output.renderOutput(dataTable, element);\n",
              "          const docLink = document.createElement('div');\n",
              "          docLink.innerHTML = docLinkHtml;\n",
              "          element.appendChild(docLink);\n",
              "        }\n",
              "      </script>\n",
              "    </div>\n",
              "  </div>\n",
              "  "
            ]
          },
          "metadata": {},
          "execution_count": 28
        }
      ]
    },
    {
      "cell_type": "code",
      "source": [
        "funcom1"
      ],
      "metadata": {
        "colab": {
          "base_uri": "https://localhost:8080/",
          "height": 468
        },
        "id": "3CYP5QhPa4D-",
        "outputId": "406eef1d-a4f0-4a67-a367-57b12e47dbb6"
      },
      "execution_count": 36,
      "outputs": [
        {
          "output_type": "execute_result",
          "data": {
            "text/plain": [
              "      Unnamed: 0                                            comment  \\\n",
              "0            406                                     get users name   \n",
              "1            511  returns the difference at the field with the g...   \n",
              "2           4711  invoked by the page to indicate the collaborat...   \n",
              "3           8274  returns the regexp to describe the beginning o...   \n",
              "4           4714    gets the email of the researcher that was found   \n",
              "...          ...                                                ...   \n",
              "1780        7011  returns the estimated no of rows reduced upon ...   \n",
              "1781        2638             handles changes in main window sliders   \n",
              "1782        1675                      sets the items for this model   \n",
              "1783        3709               hsqldb test bug base junit test case   \n",
              "1784        2601  returns a target object constructed from entri...   \n",
              "\n",
              "                                             code_words    doc_id split_name  \\\n",
              "0     private string getusername return user name su...  20352962      train   \n",
              "1     public difference visit collection difference ...  32829515      train   \n",
              "2     public void set collab organizations string co...  20101057      train   \n",
              "3     protected string get single line comment int w...   2839598      train   \n",
              "4     public string get res email return this res email  20101062      train   \n",
              "...                                                 ...       ...        ...   \n",
              "1780  public long get estimated rows long no of rows...  26590650      train   \n",
              "1781  public void state changed change event change ...  37482792      train   \n",
              "1782  public void set object t object this items object  39199412      train   \n",
              "1783  public abstract class test bug base extends te...   7532795      train   \n",
              "1784  public target make target string name throws n...  37482555      train   \n",
              "\n",
              "                                         tokenized_code  \n",
              "0     {private} {string} {getusername} {return} {use...  \n",
              "1     {difference} {visit} {collection} {difference}...  \n",
              "2     {void} {set} {collab} {organizations} {string}...  \n",
              "3     {protected} {string} {get} {single} {line} {co...  \n",
              "4     {string} {get} {res} {email} {return} {this} {...  \n",
              "...                                                 ...  \n",
              "1780  {long} {get} {estimated} {rows} {long} {no} {o...  \n",
              "1781  {void} {state} {changed} {change} {event} {cha...  \n",
              "1782  {void} {set} {object} {t} {object} {this} {ite...  \n",
              "1783  {abstract} {class} {test} {bug} {base} {extend...  \n",
              "1784  {target} {make} {target} {string} {name} {thro...  \n",
              "\n",
              "[1785 rows x 6 columns]"
            ],
            "text/html": [
              "\n",
              "  <div id=\"df-c8e23502-a9b2-4151-985c-947a496a5012\">\n",
              "    <div class=\"colab-df-container\">\n",
              "      <div>\n",
              "<style scoped>\n",
              "    .dataframe tbody tr th:only-of-type {\n",
              "        vertical-align: middle;\n",
              "    }\n",
              "\n",
              "    .dataframe tbody tr th {\n",
              "        vertical-align: top;\n",
              "    }\n",
              "\n",
              "    .dataframe thead th {\n",
              "        text-align: right;\n",
              "    }\n",
              "</style>\n",
              "<table border=\"1\" class=\"dataframe\">\n",
              "  <thead>\n",
              "    <tr style=\"text-align: right;\">\n",
              "      <th></th>\n",
              "      <th>Unnamed: 0</th>\n",
              "      <th>comment</th>\n",
              "      <th>code_words</th>\n",
              "      <th>doc_id</th>\n",
              "      <th>split_name</th>\n",
              "      <th>tokenized_code</th>\n",
              "    </tr>\n",
              "  </thead>\n",
              "  <tbody>\n",
              "    <tr>\n",
              "      <th>0</th>\n",
              "      <td>406</td>\n",
              "      <td>get users name</td>\n",
              "      <td>private string getusername return user name su...</td>\n",
              "      <td>20352962</td>\n",
              "      <td>train</td>\n",
              "      <td>{private} {string} {getusername} {return} {use...</td>\n",
              "    </tr>\n",
              "    <tr>\n",
              "      <th>1</th>\n",
              "      <td>511</td>\n",
              "      <td>returns the difference at the field with the g...</td>\n",
              "      <td>public difference visit collection difference ...</td>\n",
              "      <td>32829515</td>\n",
              "      <td>train</td>\n",
              "      <td>{difference} {visit} {collection} {difference}...</td>\n",
              "    </tr>\n",
              "    <tr>\n",
              "      <th>2</th>\n",
              "      <td>4711</td>\n",
              "      <td>invoked by the page to indicate the collaborat...</td>\n",
              "      <td>public void set collab organizations string co...</td>\n",
              "      <td>20101057</td>\n",
              "      <td>train</td>\n",
              "      <td>{void} {set} {collab} {organizations} {string}...</td>\n",
              "    </tr>\n",
              "    <tr>\n",
              "      <th>3</th>\n",
              "      <td>8274</td>\n",
              "      <td>returns the regexp to describe the beginning o...</td>\n",
              "      <td>protected string get single line comment int w...</td>\n",
              "      <td>2839598</td>\n",
              "      <td>train</td>\n",
              "      <td>{protected} {string} {get} {single} {line} {co...</td>\n",
              "    </tr>\n",
              "    <tr>\n",
              "      <th>4</th>\n",
              "      <td>4714</td>\n",
              "      <td>gets the email of the researcher that was found</td>\n",
              "      <td>public string get res email return this res email</td>\n",
              "      <td>20101062</td>\n",
              "      <td>train</td>\n",
              "      <td>{string} {get} {res} {email} {return} {this} {...</td>\n",
              "    </tr>\n",
              "    <tr>\n",
              "      <th>...</th>\n",
              "      <td>...</td>\n",
              "      <td>...</td>\n",
              "      <td>...</td>\n",
              "      <td>...</td>\n",
              "      <td>...</td>\n",
              "      <td>...</td>\n",
              "    </tr>\n",
              "    <tr>\n",
              "      <th>1780</th>\n",
              "      <td>7011</td>\n",
              "      <td>returns the estimated no of rows reduced upon ...</td>\n",
              "      <td>public long get estimated rows long no of rows...</td>\n",
              "      <td>26590650</td>\n",
              "      <td>train</td>\n",
              "      <td>{long} {get} {estimated} {rows} {long} {no} {o...</td>\n",
              "    </tr>\n",
              "    <tr>\n",
              "      <th>1781</th>\n",
              "      <td>2638</td>\n",
              "      <td>handles changes in main window sliders</td>\n",
              "      <td>public void state changed change event change ...</td>\n",
              "      <td>37482792</td>\n",
              "      <td>train</td>\n",
              "      <td>{void} {state} {changed} {change} {event} {cha...</td>\n",
              "    </tr>\n",
              "    <tr>\n",
              "      <th>1782</th>\n",
              "      <td>1675</td>\n",
              "      <td>sets the items for this model</td>\n",
              "      <td>public void set object t object this items object</td>\n",
              "      <td>39199412</td>\n",
              "      <td>train</td>\n",
              "      <td>{void} {set} {object} {t} {object} {this} {ite...</td>\n",
              "    </tr>\n",
              "    <tr>\n",
              "      <th>1783</th>\n",
              "      <td>3709</td>\n",
              "      <td>hsqldb test bug base junit test case</td>\n",
              "      <td>public abstract class test bug base extends te...</td>\n",
              "      <td>7532795</td>\n",
              "      <td>train</td>\n",
              "      <td>{abstract} {class} {test} {bug} {base} {extend...</td>\n",
              "    </tr>\n",
              "    <tr>\n",
              "      <th>1784</th>\n",
              "      <td>2601</td>\n",
              "      <td>returns a target object constructed from entri...</td>\n",
              "      <td>public target make target string name throws n...</td>\n",
              "      <td>37482555</td>\n",
              "      <td>train</td>\n",
              "      <td>{target} {make} {target} {string} {name} {thro...</td>\n",
              "    </tr>\n",
              "  </tbody>\n",
              "</table>\n",
              "<p>1785 rows × 6 columns</p>\n",
              "</div>\n",
              "      <button class=\"colab-df-convert\" onclick=\"convertToInteractive('df-c8e23502-a9b2-4151-985c-947a496a5012')\"\n",
              "              title=\"Convert this dataframe to an interactive table.\"\n",
              "              style=\"display:none;\">\n",
              "        \n",
              "  <svg xmlns=\"http://www.w3.org/2000/svg\" height=\"24px\"viewBox=\"0 0 24 24\"\n",
              "       width=\"24px\">\n",
              "    <path d=\"M0 0h24v24H0V0z\" fill=\"none\"/>\n",
              "    <path d=\"M18.56 5.44l.94 2.06.94-2.06 2.06-.94-2.06-.94-.94-2.06-.94 2.06-2.06.94zm-11 1L8.5 8.5l.94-2.06 2.06-.94-2.06-.94L8.5 2.5l-.94 2.06-2.06.94zm10 10l.94 2.06.94-2.06 2.06-.94-2.06-.94-.94-2.06-.94 2.06-2.06.94z\"/><path d=\"M17.41 7.96l-1.37-1.37c-.4-.4-.92-.59-1.43-.59-.52 0-1.04.2-1.43.59L10.3 9.45l-7.72 7.72c-.78.78-.78 2.05 0 2.83L4 21.41c.39.39.9.59 1.41.59.51 0 1.02-.2 1.41-.59l7.78-7.78 2.81-2.81c.8-.78.8-2.07 0-2.86zM5.41 20L4 18.59l7.72-7.72 1.47 1.35L5.41 20z\"/>\n",
              "  </svg>\n",
              "      </button>\n",
              "      \n",
              "  <style>\n",
              "    .colab-df-container {\n",
              "      display:flex;\n",
              "      flex-wrap:wrap;\n",
              "      gap: 12px;\n",
              "    }\n",
              "\n",
              "    .colab-df-convert {\n",
              "      background-color: #E8F0FE;\n",
              "      border: none;\n",
              "      border-radius: 50%;\n",
              "      cursor: pointer;\n",
              "      display: none;\n",
              "      fill: #1967D2;\n",
              "      height: 32px;\n",
              "      padding: 0 0 0 0;\n",
              "      width: 32px;\n",
              "    }\n",
              "\n",
              "    .colab-df-convert:hover {\n",
              "      background-color: #E2EBFA;\n",
              "      box-shadow: 0px 1px 2px rgba(60, 64, 67, 0.3), 0px 1px 3px 1px rgba(60, 64, 67, 0.15);\n",
              "      fill: #174EA6;\n",
              "    }\n",
              "\n",
              "    [theme=dark] .colab-df-convert {\n",
              "      background-color: #3B4455;\n",
              "      fill: #D2E3FC;\n",
              "    }\n",
              "\n",
              "    [theme=dark] .colab-df-convert:hover {\n",
              "      background-color: #434B5C;\n",
              "      box-shadow: 0px 1px 3px 1px rgba(0, 0, 0, 0.15);\n",
              "      filter: drop-shadow(0px 1px 2px rgba(0, 0, 0, 0.3));\n",
              "      fill: #FFFFFF;\n",
              "    }\n",
              "  </style>\n",
              "\n",
              "      <script>\n",
              "        const buttonEl =\n",
              "          document.querySelector('#df-c8e23502-a9b2-4151-985c-947a496a5012 button.colab-df-convert');\n",
              "        buttonEl.style.display =\n",
              "          google.colab.kernel.accessAllowed ? 'block' : 'none';\n",
              "\n",
              "        async function convertToInteractive(key) {\n",
              "          const element = document.querySelector('#df-c8e23502-a9b2-4151-985c-947a496a5012');\n",
              "          const dataTable =\n",
              "            await google.colab.kernel.invokeFunction('convertToInteractive',\n",
              "                                                     [key], {});\n",
              "          if (!dataTable) return;\n",
              "\n",
              "          const docLinkHtml = 'Like what you see? Visit the ' +\n",
              "            '<a target=\"_blank\" href=https://colab.research.google.com/notebooks/data_table.ipynb>data table notebook</a>'\n",
              "            + ' to learn more about interactive tables.';\n",
              "          element.innerHTML = '';\n",
              "          dataTable['output_type'] = 'display_data';\n",
              "          await google.colab.output.renderOutput(dataTable, element);\n",
              "          const docLink = document.createElement('div');\n",
              "          docLink.innerHTML = docLinkHtml;\n",
              "          element.appendChild(docLink);\n",
              "        }\n",
              "      </script>\n",
              "    </div>\n",
              "  </div>\n",
              "  "
            ]
          },
          "metadata": {},
          "execution_count": 36
        }
      ]
    },
    {
      "cell_type": "code",
      "source": [
        "hybrid"
      ],
      "metadata": {
        "colab": {
          "base_uri": "https://localhost:8080/",
          "height": 424
        },
        "id": "oDU1Wrwca8KI",
        "outputId": "15f10141-c8ad-4d01-ea60-3300f7b9b767"
      },
      "execution_count": 37,
      "outputs": [
        {
          "output_type": "execute_result",
          "data": {
            "text/plain": [
              "                                                 comment  \\\n",
              "0                  sends patch to the enumeration task .   \n",
              "1      returns whether or not the item can transfer p...   \n",
              "2      creates a duration from the given millisecond ...   \n",
              "3      create dto object of github pull request head ...   \n",
              "4      creates a new byte array output stream with a ...   \n",
              "...                                                  ...   \n",
              "13022  writes a document into a file using the specif...   \n",
              "13023  indicates whether an editing operation is curr...   \n",
              "13024  return the duration in milliseconds for which ...   \n",
              "13025        instantiates a new interaction definition .   \n",
              "13026  create system theme ringtone path directory if...   \n",
              "\n",
              "                                              code_words              doc_id  \\\n",
              "0      public static void sendpatchtoenumerationtask ...  train_fold-1413018   \n",
              "1      public boolean cantransferpeexternally ( items...  train_fold-1428883   \n",
              "2      protected baseduration ( long duration ) { sup...  train_fold-1173478   \n",
              "3      public githubpullrequesthead createpullrequest...  train_fold-1136528   \n",
              "4      public bytearrayoutputstream ( int size ) { if...  train_fold-1236896   \n",
              "...                                                  ...                 ...   \n",
              "13022  private void writedocument ( document doc , fi...  train_fold-1324338   \n",
              "13023    public boolean isactive ( ) { return active ; }   train_fold-176195   \n",
              "13024  public long backoff ( int attempt ) { long dur...   train_fold-115505   \n",
              "13025  public interactiondefinition ( string type , s...  train_fold-1357009   \n",
              "13026  public static void createringtonedirifnotexist...  train_fold-1152134   \n",
              "\n",
              "         split_name                                     tokenized_code  \n",
              "0      train_fold-1  {static} {void} {sendpatchtoenumerationtask} {...  \n",
              "1      train_fold-1  {boolean} {cantransferpeexternally} {itemstack...  \n",
              "2      train_fold-1  {protected} {baseduration} {long} {duration} {...  \n",
              "3      train_fold-1  {githubpullrequesthead} {createpullrequesthead...  \n",
              "4      train_fold-1  {bytearrayoutputstream} {int} {size} {if} {siz...  \n",
              "...             ...                                                ...  \n",
              "13022  train_fold-1  {private} {void} {writedocument} {document} {d...  \n",
              "13023  train_fold-1             {boolean} {isactive} {return} {active}  \n",
              "13024  train_fold-1  {long} {backoff} {int} {attempt} {long} {durat...  \n",
              "13025  train_fold-1  {interactiondefinition} {string} {type} {strin...  \n",
              "13026  train_fold-1  {static} {void} {createringtonedirifnotexists}...  \n",
              "\n",
              "[13027 rows x 5 columns]"
            ],
            "text/html": [
              "\n",
              "  <div id=\"df-362e73ec-ad29-4fc6-9f28-744e900f6f62\">\n",
              "    <div class=\"colab-df-container\">\n",
              "      <div>\n",
              "<style scoped>\n",
              "    .dataframe tbody tr th:only-of-type {\n",
              "        vertical-align: middle;\n",
              "    }\n",
              "\n",
              "    .dataframe tbody tr th {\n",
              "        vertical-align: top;\n",
              "    }\n",
              "\n",
              "    .dataframe thead th {\n",
              "        text-align: right;\n",
              "    }\n",
              "</style>\n",
              "<table border=\"1\" class=\"dataframe\">\n",
              "  <thead>\n",
              "    <tr style=\"text-align: right;\">\n",
              "      <th></th>\n",
              "      <th>comment</th>\n",
              "      <th>code_words</th>\n",
              "      <th>doc_id</th>\n",
              "      <th>split_name</th>\n",
              "      <th>tokenized_code</th>\n",
              "    </tr>\n",
              "  </thead>\n",
              "  <tbody>\n",
              "    <tr>\n",
              "      <th>0</th>\n",
              "      <td>sends patch to the enumeration task .</td>\n",
              "      <td>public static void sendpatchtoenumerationtask ...</td>\n",
              "      <td>train_fold-1413018</td>\n",
              "      <td>train_fold-1</td>\n",
              "      <td>{static} {void} {sendpatchtoenumerationtask} {...</td>\n",
              "    </tr>\n",
              "    <tr>\n",
              "      <th>1</th>\n",
              "      <td>returns whether or not the item can transfer p...</td>\n",
              "      <td>public boolean cantransferpeexternally ( items...</td>\n",
              "      <td>train_fold-1428883</td>\n",
              "      <td>train_fold-1</td>\n",
              "      <td>{boolean} {cantransferpeexternally} {itemstack...</td>\n",
              "    </tr>\n",
              "    <tr>\n",
              "      <th>2</th>\n",
              "      <td>creates a duration from the given millisecond ...</td>\n",
              "      <td>protected baseduration ( long duration ) { sup...</td>\n",
              "      <td>train_fold-1173478</td>\n",
              "      <td>train_fold-1</td>\n",
              "      <td>{protected} {baseduration} {long} {duration} {...</td>\n",
              "    </tr>\n",
              "    <tr>\n",
              "      <th>3</th>\n",
              "      <td>create dto object of github pull request head ...</td>\n",
              "      <td>public githubpullrequesthead createpullrequest...</td>\n",
              "      <td>train_fold-1136528</td>\n",
              "      <td>train_fold-1</td>\n",
              "      <td>{githubpullrequesthead} {createpullrequesthead...</td>\n",
              "    </tr>\n",
              "    <tr>\n",
              "      <th>4</th>\n",
              "      <td>creates a new byte array output stream with a ...</td>\n",
              "      <td>public bytearrayoutputstream ( int size ) { if...</td>\n",
              "      <td>train_fold-1236896</td>\n",
              "      <td>train_fold-1</td>\n",
              "      <td>{bytearrayoutputstream} {int} {size} {if} {siz...</td>\n",
              "    </tr>\n",
              "    <tr>\n",
              "      <th>...</th>\n",
              "      <td>...</td>\n",
              "      <td>...</td>\n",
              "      <td>...</td>\n",
              "      <td>...</td>\n",
              "      <td>...</td>\n",
              "    </tr>\n",
              "    <tr>\n",
              "      <th>13022</th>\n",
              "      <td>writes a document into a file using the specif...</td>\n",
              "      <td>private void writedocument ( document doc , fi...</td>\n",
              "      <td>train_fold-1324338</td>\n",
              "      <td>train_fold-1</td>\n",
              "      <td>{private} {void} {writedocument} {document} {d...</td>\n",
              "    </tr>\n",
              "    <tr>\n",
              "      <th>13023</th>\n",
              "      <td>indicates whether an editing operation is curr...</td>\n",
              "      <td>public boolean isactive ( ) { return active ; }</td>\n",
              "      <td>train_fold-176195</td>\n",
              "      <td>train_fold-1</td>\n",
              "      <td>{boolean} {isactive} {return} {active}</td>\n",
              "    </tr>\n",
              "    <tr>\n",
              "      <th>13024</th>\n",
              "      <td>return the duration in milliseconds for which ...</td>\n",
              "      <td>public long backoff ( int attempt ) { long dur...</td>\n",
              "      <td>train_fold-115505</td>\n",
              "      <td>train_fold-1</td>\n",
              "      <td>{long} {backoff} {int} {attempt} {long} {durat...</td>\n",
              "    </tr>\n",
              "    <tr>\n",
              "      <th>13025</th>\n",
              "      <td>instantiates a new interaction definition .</td>\n",
              "      <td>public interactiondefinition ( string type , s...</td>\n",
              "      <td>train_fold-1357009</td>\n",
              "      <td>train_fold-1</td>\n",
              "      <td>{interactiondefinition} {string} {type} {strin...</td>\n",
              "    </tr>\n",
              "    <tr>\n",
              "      <th>13026</th>\n",
              "      <td>create system theme ringtone path directory if...</td>\n",
              "      <td>public static void createringtonedirifnotexist...</td>\n",
              "      <td>train_fold-1152134</td>\n",
              "      <td>train_fold-1</td>\n",
              "      <td>{static} {void} {createringtonedirifnotexists}...</td>\n",
              "    </tr>\n",
              "  </tbody>\n",
              "</table>\n",
              "<p>13027 rows × 5 columns</p>\n",
              "</div>\n",
              "      <button class=\"colab-df-convert\" onclick=\"convertToInteractive('df-362e73ec-ad29-4fc6-9f28-744e900f6f62')\"\n",
              "              title=\"Convert this dataframe to an interactive table.\"\n",
              "              style=\"display:none;\">\n",
              "        \n",
              "  <svg xmlns=\"http://www.w3.org/2000/svg\" height=\"24px\"viewBox=\"0 0 24 24\"\n",
              "       width=\"24px\">\n",
              "    <path d=\"M0 0h24v24H0V0z\" fill=\"none\"/>\n",
              "    <path d=\"M18.56 5.44l.94 2.06.94-2.06 2.06-.94-2.06-.94-.94-2.06-.94 2.06-2.06.94zm-11 1L8.5 8.5l.94-2.06 2.06-.94-2.06-.94L8.5 2.5l-.94 2.06-2.06.94zm10 10l.94 2.06.94-2.06 2.06-.94-2.06-.94-.94-2.06-.94 2.06-2.06.94z\"/><path d=\"M17.41 7.96l-1.37-1.37c-.4-.4-.92-.59-1.43-.59-.52 0-1.04.2-1.43.59L10.3 9.45l-7.72 7.72c-.78.78-.78 2.05 0 2.83L4 21.41c.39.39.9.59 1.41.59.51 0 1.02-.2 1.41-.59l7.78-7.78 2.81-2.81c.8-.78.8-2.07 0-2.86zM5.41 20L4 18.59l7.72-7.72 1.47 1.35L5.41 20z\"/>\n",
              "  </svg>\n",
              "      </button>\n",
              "      \n",
              "  <style>\n",
              "    .colab-df-container {\n",
              "      display:flex;\n",
              "      flex-wrap:wrap;\n",
              "      gap: 12px;\n",
              "    }\n",
              "\n",
              "    .colab-df-convert {\n",
              "      background-color: #E8F0FE;\n",
              "      border: none;\n",
              "      border-radius: 50%;\n",
              "      cursor: pointer;\n",
              "      display: none;\n",
              "      fill: #1967D2;\n",
              "      height: 32px;\n",
              "      padding: 0 0 0 0;\n",
              "      width: 32px;\n",
              "    }\n",
              "\n",
              "    .colab-df-convert:hover {\n",
              "      background-color: #E2EBFA;\n",
              "      box-shadow: 0px 1px 2px rgba(60, 64, 67, 0.3), 0px 1px 3px 1px rgba(60, 64, 67, 0.15);\n",
              "      fill: #174EA6;\n",
              "    }\n",
              "\n",
              "    [theme=dark] .colab-df-convert {\n",
              "      background-color: #3B4455;\n",
              "      fill: #D2E3FC;\n",
              "    }\n",
              "\n",
              "    [theme=dark] .colab-df-convert:hover {\n",
              "      background-color: #434B5C;\n",
              "      box-shadow: 0px 1px 3px 1px rgba(0, 0, 0, 0.15);\n",
              "      filter: drop-shadow(0px 1px 2px rgba(0, 0, 0, 0.3));\n",
              "      fill: #FFFFFF;\n",
              "    }\n",
              "  </style>\n",
              "\n",
              "      <script>\n",
              "        const buttonEl =\n",
              "          document.querySelector('#df-362e73ec-ad29-4fc6-9f28-744e900f6f62 button.colab-df-convert');\n",
              "        buttonEl.style.display =\n",
              "          google.colab.kernel.accessAllowed ? 'block' : 'none';\n",
              "\n",
              "        async function convertToInteractive(key) {\n",
              "          const element = document.querySelector('#df-362e73ec-ad29-4fc6-9f28-744e900f6f62');\n",
              "          const dataTable =\n",
              "            await google.colab.kernel.invokeFunction('convertToInteractive',\n",
              "                                                     [key], {});\n",
              "          if (!dataTable) return;\n",
              "\n",
              "          const docLinkHtml = 'Like what you see? Visit the ' +\n",
              "            '<a target=\"_blank\" href=https://colab.research.google.com/notebooks/data_table.ipynb>data table notebook</a>'\n",
              "            + ' to learn more about interactive tables.';\n",
              "          element.innerHTML = '';\n",
              "          dataTable['output_type'] = 'display_data';\n",
              "          await google.colab.output.renderOutput(dataTable, element);\n",
              "          const docLink = document.createElement('div');\n",
              "          docLink.innerHTML = docLinkHtml;\n",
              "          element.appendChild(docLink);\n",
              "        }\n",
              "      </script>\n",
              "    </div>\n",
              "  </div>\n",
              "  "
            ]
          },
          "metadata": {},
          "execution_count": 37
        }
      ]
    },
    {
      "cell_type": "code",
      "source": [
        "nscjava"
      ],
      "metadata": {
        "colab": {
          "base_uri": "https://localhost:8080/",
          "height": 424
        },
        "id": "JggE982RdCR1",
        "outputId": "dcf1d0af-f25c-41a2-9ada-3df4ef7d4228"
      },
      "execution_count": 44,
      "outputs": [
        {
          "output_type": "execute_result",
          "data": {
            "text/plain": [
              "                                                 comment  \\\n",
              "0      validate password for the distinguished user ,...   \n",
              "1      create a new states map with the target count ...   \n",
              "2                      sets the time of date to midnight   \n",
              "3      ensures that this vector can hold the specifie...   \n",
              "4      determine how many lines have been changed , t...   \n",
              "...                                                  ...   \n",
              "13937  add the crls in crlstore to the crl set to be ...   \n",
              "13938            adds an indexbuilder to the new table .   \n",
              "13939  computes a reasonable number of labels for a d...   \n",
              "13940  removes the given option ( does nothing if it ...   \n",
              "13941  check if we ' ve crossed a reasonable touch sl...   \n",
              "\n",
              "                                              code_words      doc_id  \\\n",
              "0      public void validate Password ( String user Pa...  train40695   \n",
              "1      public Total Target Count Status ( final Long ...  train56046   \n",
              "2      public static Date reset Time ( Date date ) { ...  train58058   \n",
              "3      public synchronized void ensure Capacity ( int...  train38711   \n",
              "4      public void process Changed Lines ( int offset...  train61418   \n",
              "...                                                  ...         ...   \n",
              "13937  public void add CR Ls ( Store crl Store ) thro...   train7221   \n",
              "13938  public Table Builder add Index ( Index Builder...  train40454   \n",
              "13939  private static double [ ] compute Labels ( fin...  train49837   \n",
              "13940  public synchronized void remove Option ( Strin...  train65362   \n",
              "13941  private boolean check Touch Slop ( View child ...  train49801   \n",
              "\n",
              "      split_name                                     tokenized_code  \n",
              "0          train  {void} {validate} {password} {string} {user} {...  \n",
              "1          train  {total} {target} {count} {status} {final} {lon...  \n",
              "2          train  {static} {date} {reset} {time} {date} {date} {...  \n",
              "3          train  {synchronized} {void} {ensure} {capacity} {int...  \n",
              "4          train  {void} {process} {changed} {lines} {int} {offs...  \n",
              "...          ...                                                ...  \n",
              "13937      train  {void} {add} {cr} {ls} {store} {crl} {store} {...  \n",
              "13938      train  {table} {builder} {add} {index} {index} {build...  \n",
              "13939      train  {private} {static} {double} {compute} {labels}...  \n",
              "13940      train  {synchronized} {void} {remove} {option} {strin...  \n",
              "13941      train  {private} {boolean} {check} {touch} {slop} {vi...  \n",
              "\n",
              "[13942 rows x 5 columns]"
            ],
            "text/html": [
              "\n",
              "  <div id=\"df-cea73c96-d7b7-4224-ab63-e85fedc47613\">\n",
              "    <div class=\"colab-df-container\">\n",
              "      <div>\n",
              "<style scoped>\n",
              "    .dataframe tbody tr th:only-of-type {\n",
              "        vertical-align: middle;\n",
              "    }\n",
              "\n",
              "    .dataframe tbody tr th {\n",
              "        vertical-align: top;\n",
              "    }\n",
              "\n",
              "    .dataframe thead th {\n",
              "        text-align: right;\n",
              "    }\n",
              "</style>\n",
              "<table border=\"1\" class=\"dataframe\">\n",
              "  <thead>\n",
              "    <tr style=\"text-align: right;\">\n",
              "      <th></th>\n",
              "      <th>comment</th>\n",
              "      <th>code_words</th>\n",
              "      <th>doc_id</th>\n",
              "      <th>split_name</th>\n",
              "      <th>tokenized_code</th>\n",
              "    </tr>\n",
              "  </thead>\n",
              "  <tbody>\n",
              "    <tr>\n",
              "      <th>0</th>\n",
              "      <td>validate password for the distinguished user ,...</td>\n",
              "      <td>public void validate Password ( String user Pa...</td>\n",
              "      <td>train40695</td>\n",
              "      <td>train</td>\n",
              "      <td>{void} {validate} {password} {string} {user} {...</td>\n",
              "    </tr>\n",
              "    <tr>\n",
              "      <th>1</th>\n",
              "      <td>create a new states map with the target count ...</td>\n",
              "      <td>public Total Target Count Status ( final Long ...</td>\n",
              "      <td>train56046</td>\n",
              "      <td>train</td>\n",
              "      <td>{total} {target} {count} {status} {final} {lon...</td>\n",
              "    </tr>\n",
              "    <tr>\n",
              "      <th>2</th>\n",
              "      <td>sets the time of date to midnight</td>\n",
              "      <td>public static Date reset Time ( Date date ) { ...</td>\n",
              "      <td>train58058</td>\n",
              "      <td>train</td>\n",
              "      <td>{static} {date} {reset} {time} {date} {date} {...</td>\n",
              "    </tr>\n",
              "    <tr>\n",
              "      <th>3</th>\n",
              "      <td>ensures that this vector can hold the specifie...</td>\n",
              "      <td>public synchronized void ensure Capacity ( int...</td>\n",
              "      <td>train38711</td>\n",
              "      <td>train</td>\n",
              "      <td>{synchronized} {void} {ensure} {capacity} {int...</td>\n",
              "    </tr>\n",
              "    <tr>\n",
              "      <th>4</th>\n",
              "      <td>determine how many lines have been changed , t...</td>\n",
              "      <td>public void process Changed Lines ( int offset...</td>\n",
              "      <td>train61418</td>\n",
              "      <td>train</td>\n",
              "      <td>{void} {process} {changed} {lines} {int} {offs...</td>\n",
              "    </tr>\n",
              "    <tr>\n",
              "      <th>...</th>\n",
              "      <td>...</td>\n",
              "      <td>...</td>\n",
              "      <td>...</td>\n",
              "      <td>...</td>\n",
              "      <td>...</td>\n",
              "    </tr>\n",
              "    <tr>\n",
              "      <th>13937</th>\n",
              "      <td>add the crls in crlstore to the crl set to be ...</td>\n",
              "      <td>public void add CR Ls ( Store crl Store ) thro...</td>\n",
              "      <td>train7221</td>\n",
              "      <td>train</td>\n",
              "      <td>{void} {add} {cr} {ls} {store} {crl} {store} {...</td>\n",
              "    </tr>\n",
              "    <tr>\n",
              "      <th>13938</th>\n",
              "      <td>adds an indexbuilder to the new table .</td>\n",
              "      <td>public Table Builder add Index ( Index Builder...</td>\n",
              "      <td>train40454</td>\n",
              "      <td>train</td>\n",
              "      <td>{table} {builder} {add} {index} {index} {build...</td>\n",
              "    </tr>\n",
              "    <tr>\n",
              "      <th>13939</th>\n",
              "      <td>computes a reasonable number of labels for a d...</td>\n",
              "      <td>private static double [ ] compute Labels ( fin...</td>\n",
              "      <td>train49837</td>\n",
              "      <td>train</td>\n",
              "      <td>{private} {static} {double} {compute} {labels}...</td>\n",
              "    </tr>\n",
              "    <tr>\n",
              "      <th>13940</th>\n",
              "      <td>removes the given option ( does nothing if it ...</td>\n",
              "      <td>public synchronized void remove Option ( Strin...</td>\n",
              "      <td>train65362</td>\n",
              "      <td>train</td>\n",
              "      <td>{synchronized} {void} {remove} {option} {strin...</td>\n",
              "    </tr>\n",
              "    <tr>\n",
              "      <th>13941</th>\n",
              "      <td>check if we ' ve crossed a reasonable touch sl...</td>\n",
              "      <td>private boolean check Touch Slop ( View child ...</td>\n",
              "      <td>train49801</td>\n",
              "      <td>train</td>\n",
              "      <td>{private} {boolean} {check} {touch} {slop} {vi...</td>\n",
              "    </tr>\n",
              "  </tbody>\n",
              "</table>\n",
              "<p>13942 rows × 5 columns</p>\n",
              "</div>\n",
              "      <button class=\"colab-df-convert\" onclick=\"convertToInteractive('df-cea73c96-d7b7-4224-ab63-e85fedc47613')\"\n",
              "              title=\"Convert this dataframe to an interactive table.\"\n",
              "              style=\"display:none;\">\n",
              "        \n",
              "  <svg xmlns=\"http://www.w3.org/2000/svg\" height=\"24px\"viewBox=\"0 0 24 24\"\n",
              "       width=\"24px\">\n",
              "    <path d=\"M0 0h24v24H0V0z\" fill=\"none\"/>\n",
              "    <path d=\"M18.56 5.44l.94 2.06.94-2.06 2.06-.94-2.06-.94-.94-2.06-.94 2.06-2.06.94zm-11 1L8.5 8.5l.94-2.06 2.06-.94-2.06-.94L8.5 2.5l-.94 2.06-2.06.94zm10 10l.94 2.06.94-2.06 2.06-.94-2.06-.94-.94-2.06-.94 2.06-2.06.94z\"/><path d=\"M17.41 7.96l-1.37-1.37c-.4-.4-.92-.59-1.43-.59-.52 0-1.04.2-1.43.59L10.3 9.45l-7.72 7.72c-.78.78-.78 2.05 0 2.83L4 21.41c.39.39.9.59 1.41.59.51 0 1.02-.2 1.41-.59l7.78-7.78 2.81-2.81c.8-.78.8-2.07 0-2.86zM5.41 20L4 18.59l7.72-7.72 1.47 1.35L5.41 20z\"/>\n",
              "  </svg>\n",
              "      </button>\n",
              "      \n",
              "  <style>\n",
              "    .colab-df-container {\n",
              "      display:flex;\n",
              "      flex-wrap:wrap;\n",
              "      gap: 12px;\n",
              "    }\n",
              "\n",
              "    .colab-df-convert {\n",
              "      background-color: #E8F0FE;\n",
              "      border: none;\n",
              "      border-radius: 50%;\n",
              "      cursor: pointer;\n",
              "      display: none;\n",
              "      fill: #1967D2;\n",
              "      height: 32px;\n",
              "      padding: 0 0 0 0;\n",
              "      width: 32px;\n",
              "    }\n",
              "\n",
              "    .colab-df-convert:hover {\n",
              "      background-color: #E2EBFA;\n",
              "      box-shadow: 0px 1px 2px rgba(60, 64, 67, 0.3), 0px 1px 3px 1px rgba(60, 64, 67, 0.15);\n",
              "      fill: #174EA6;\n",
              "    }\n",
              "\n",
              "    [theme=dark] .colab-df-convert {\n",
              "      background-color: #3B4455;\n",
              "      fill: #D2E3FC;\n",
              "    }\n",
              "\n",
              "    [theme=dark] .colab-df-convert:hover {\n",
              "      background-color: #434B5C;\n",
              "      box-shadow: 0px 1px 3px 1px rgba(0, 0, 0, 0.15);\n",
              "      filter: drop-shadow(0px 1px 2px rgba(0, 0, 0, 0.3));\n",
              "      fill: #FFFFFF;\n",
              "    }\n",
              "  </style>\n",
              "\n",
              "      <script>\n",
              "        const buttonEl =\n",
              "          document.querySelector('#df-cea73c96-d7b7-4224-ab63-e85fedc47613 button.colab-df-convert');\n",
              "        buttonEl.style.display =\n",
              "          google.colab.kernel.accessAllowed ? 'block' : 'none';\n",
              "\n",
              "        async function convertToInteractive(key) {\n",
              "          const element = document.querySelector('#df-cea73c96-d7b7-4224-ab63-e85fedc47613');\n",
              "          const dataTable =\n",
              "            await google.colab.kernel.invokeFunction('convertToInteractive',\n",
              "                                                     [key], {});\n",
              "          if (!dataTable) return;\n",
              "\n",
              "          const docLinkHtml = 'Like what you see? Visit the ' +\n",
              "            '<a target=\"_blank\" href=https://colab.research.google.com/notebooks/data_table.ipynb>data table notebook</a>'\n",
              "            + ' to learn more about interactive tables.';\n",
              "          element.innerHTML = '';\n",
              "          dataTable['output_type'] = 'display_data';\n",
              "          await google.colab.output.renderOutput(dataTable, element);\n",
              "          const docLink = document.createElement('div');\n",
              "          docLink.innerHTML = docLinkHtml;\n",
              "          element.appendChild(docLink);\n",
              "        }\n",
              "      </script>\n",
              "    </div>\n",
              "  </div>\n",
              "  "
            ]
          },
          "metadata": {},
          "execution_count": 44
        }
      ]
    },
    {
      "cell_type": "code",
      "source": [
        "nscpy"
      ],
      "metadata": {
        "colab": {
          "base_uri": "https://localhost:8080/",
          "height": 468
        },
        "id": "qtdZBdzTdFrc",
        "outputId": "e4da636f-175e-4d97-abf8-1d8bb8ae0b91"
      },
      "execution_count": 6,
      "outputs": [
        {
          "output_type": "execute_result",
          "data": {
            "text/plain": [
              "       Unnamed: 0                                            comment  \\\n",
              "0           22638  creates a bucket :returns: the name of the buc...   \n",
              "1            9138                              this returns a list .   \n",
              "2           43704  import pyqt5 importerrors rasied within this f...   \n",
              "3           50532  check and set the dbms authentication credenti...   \n",
              "4            3494                   strongly inspired from idlelib .   \n",
              "...           ...                                                ...   \n",
              "11103       39195  returns the set of all nodes that are before t...   \n",
              "11104       14604               convert a list of pairs into pairs .   \n",
              "11105       27393  generator which can be iterated over to get in...   \n",
              "11106       47337                        get the current exception .   \n",
              "11107       25332           generate a random sentence-like string .   \n",
              "\n",
              "                                              code_words      doc_id  \\\n",
              "0      def create bucket session name None region Non...  train22638   \n",
              "1      def oo filter list data filter attr None if no...   train9138   \n",
              "2      def import pyqt 5 import sipfrom Py Qt 5 impor...  train43704   \n",
              "3      def set DBMS Authentication if not conf dbms C...  train50532   \n",
              "4      def make html patterns tags any 'builtin' ['<'...   train3494   \n",
              "...                                                  ...         ...   \n",
              "11103  def before node try pos node treeposition tree...  train39195   \n",
              "11104  def safe Repr Vars vars Dict Items return [ na...  train14604   \n",
              "11105  def all timeseries index generator k 10 make i...  train27393   \n",
              "11106         def get exception return sys exc info [1 ]  train47337   \n",
              "11107  def rsentence length 4 return '' join rword ra...  train25332   \n",
              "\n",
              "      split_name                                     tokenized_code  \n",
              "0          train  {def} {create} {bucket} {session} {name} {none...  \n",
              "1          train  {def} {oo} {filter} {list} {data} {filter} {at...  \n",
              "2          train  {def} {import} {pyqt} {5} {import} {sipfrom} {...  \n",
              "3          train  {def} {set} {dbms} {authentication} {if} {not}...  \n",
              "4          train  {def} {make} {html} {patterns} {tags} {any} {b...  \n",
              "...          ...                                                ...  \n",
              "11103      train  {def} {before} {node} {try} {pos} {node} {tree...  \n",
              "11104      train  {def} {safe} {repr} {vars} {vars} {dict} {item...  \n",
              "11105      train  {def} {all} {timeseries} {index} {generator} {...  \n",
              "11106      train  {def} {get} {exception} {return} {sys} {exc} {...  \n",
              "11107      train  {def} {rsentence} {length} {4} {return} {''} {...  \n",
              "\n",
              "[11108 rows x 6 columns]"
            ],
            "text/html": [
              "\n",
              "  <div id=\"df-527d5862-50dd-43b6-b595-fd2e902e0cc8\">\n",
              "    <div class=\"colab-df-container\">\n",
              "      <div>\n",
              "<style scoped>\n",
              "    .dataframe tbody tr th:only-of-type {\n",
              "        vertical-align: middle;\n",
              "    }\n",
              "\n",
              "    .dataframe tbody tr th {\n",
              "        vertical-align: top;\n",
              "    }\n",
              "\n",
              "    .dataframe thead th {\n",
              "        text-align: right;\n",
              "    }\n",
              "</style>\n",
              "<table border=\"1\" class=\"dataframe\">\n",
              "  <thead>\n",
              "    <tr style=\"text-align: right;\">\n",
              "      <th></th>\n",
              "      <th>Unnamed: 0</th>\n",
              "      <th>comment</th>\n",
              "      <th>code_words</th>\n",
              "      <th>doc_id</th>\n",
              "      <th>split_name</th>\n",
              "      <th>tokenized_code</th>\n",
              "    </tr>\n",
              "  </thead>\n",
              "  <tbody>\n",
              "    <tr>\n",
              "      <th>0</th>\n",
              "      <td>22638</td>\n",
              "      <td>creates a bucket :returns: the name of the buc...</td>\n",
              "      <td>def create bucket session name None region Non...</td>\n",
              "      <td>train22638</td>\n",
              "      <td>train</td>\n",
              "      <td>{def} {create} {bucket} {session} {name} {none...</td>\n",
              "    </tr>\n",
              "    <tr>\n",
              "      <th>1</th>\n",
              "      <td>9138</td>\n",
              "      <td>this returns a list .</td>\n",
              "      <td>def oo filter list data filter attr None if no...</td>\n",
              "      <td>train9138</td>\n",
              "      <td>train</td>\n",
              "      <td>{def} {oo} {filter} {list} {data} {filter} {at...</td>\n",
              "    </tr>\n",
              "    <tr>\n",
              "      <th>2</th>\n",
              "      <td>43704</td>\n",
              "      <td>import pyqt5 importerrors rasied within this f...</td>\n",
              "      <td>def import pyqt 5 import sipfrom Py Qt 5 impor...</td>\n",
              "      <td>train43704</td>\n",
              "      <td>train</td>\n",
              "      <td>{def} {import} {pyqt} {5} {import} {sipfrom} {...</td>\n",
              "    </tr>\n",
              "    <tr>\n",
              "      <th>3</th>\n",
              "      <td>50532</td>\n",
              "      <td>check and set the dbms authentication credenti...</td>\n",
              "      <td>def set DBMS Authentication if not conf dbms C...</td>\n",
              "      <td>train50532</td>\n",
              "      <td>train</td>\n",
              "      <td>{def} {set} {dbms} {authentication} {if} {not}...</td>\n",
              "    </tr>\n",
              "    <tr>\n",
              "      <th>4</th>\n",
              "      <td>3494</td>\n",
              "      <td>strongly inspired from idlelib .</td>\n",
              "      <td>def make html patterns tags any 'builtin' ['&lt;'...</td>\n",
              "      <td>train3494</td>\n",
              "      <td>train</td>\n",
              "      <td>{def} {make} {html} {patterns} {tags} {any} {b...</td>\n",
              "    </tr>\n",
              "    <tr>\n",
              "      <th>...</th>\n",
              "      <td>...</td>\n",
              "      <td>...</td>\n",
              "      <td>...</td>\n",
              "      <td>...</td>\n",
              "      <td>...</td>\n",
              "      <td>...</td>\n",
              "    </tr>\n",
              "    <tr>\n",
              "      <th>11103</th>\n",
              "      <td>39195</td>\n",
              "      <td>returns the set of all nodes that are before t...</td>\n",
              "      <td>def before node try pos node treeposition tree...</td>\n",
              "      <td>train39195</td>\n",
              "      <td>train</td>\n",
              "      <td>{def} {before} {node} {try} {pos} {node} {tree...</td>\n",
              "    </tr>\n",
              "    <tr>\n",
              "      <th>11104</th>\n",
              "      <td>14604</td>\n",
              "      <td>convert a list of pairs into pairs .</td>\n",
              "      <td>def safe Repr Vars vars Dict Items return [ na...</td>\n",
              "      <td>train14604</td>\n",
              "      <td>train</td>\n",
              "      <td>{def} {safe} {repr} {vars} {vars} {dict} {item...</td>\n",
              "    </tr>\n",
              "    <tr>\n",
              "      <th>11105</th>\n",
              "      <td>27393</td>\n",
              "      <td>generator which can be iterated over to get in...</td>\n",
              "      <td>def all timeseries index generator k 10 make i...</td>\n",
              "      <td>train27393</td>\n",
              "      <td>train</td>\n",
              "      <td>{def} {all} {timeseries} {index} {generator} {...</td>\n",
              "    </tr>\n",
              "    <tr>\n",
              "      <th>11106</th>\n",
              "      <td>47337</td>\n",
              "      <td>get the current exception .</td>\n",
              "      <td>def get exception return sys exc info [1 ]</td>\n",
              "      <td>train47337</td>\n",
              "      <td>train</td>\n",
              "      <td>{def} {get} {exception} {return} {sys} {exc} {...</td>\n",
              "    </tr>\n",
              "    <tr>\n",
              "      <th>11107</th>\n",
              "      <td>25332</td>\n",
              "      <td>generate a random sentence-like string .</td>\n",
              "      <td>def rsentence length 4 return '' join rword ra...</td>\n",
              "      <td>train25332</td>\n",
              "      <td>train</td>\n",
              "      <td>{def} {rsentence} {length} {4} {return} {''} {...</td>\n",
              "    </tr>\n",
              "  </tbody>\n",
              "</table>\n",
              "<p>11108 rows × 6 columns</p>\n",
              "</div>\n",
              "      <button class=\"colab-df-convert\" onclick=\"convertToInteractive('df-527d5862-50dd-43b6-b595-fd2e902e0cc8')\"\n",
              "              title=\"Convert this dataframe to an interactive table.\"\n",
              "              style=\"display:none;\">\n",
              "        \n",
              "  <svg xmlns=\"http://www.w3.org/2000/svg\" height=\"24px\"viewBox=\"0 0 24 24\"\n",
              "       width=\"24px\">\n",
              "    <path d=\"M0 0h24v24H0V0z\" fill=\"none\"/>\n",
              "    <path d=\"M18.56 5.44l.94 2.06.94-2.06 2.06-.94-2.06-.94-.94-2.06-.94 2.06-2.06.94zm-11 1L8.5 8.5l.94-2.06 2.06-.94-2.06-.94L8.5 2.5l-.94 2.06-2.06.94zm10 10l.94 2.06.94-2.06 2.06-.94-2.06-.94-.94-2.06-.94 2.06-2.06.94z\"/><path d=\"M17.41 7.96l-1.37-1.37c-.4-.4-.92-.59-1.43-.59-.52 0-1.04.2-1.43.59L10.3 9.45l-7.72 7.72c-.78.78-.78 2.05 0 2.83L4 21.41c.39.39.9.59 1.41.59.51 0 1.02-.2 1.41-.59l7.78-7.78 2.81-2.81c.8-.78.8-2.07 0-2.86zM5.41 20L4 18.59l7.72-7.72 1.47 1.35L5.41 20z\"/>\n",
              "  </svg>\n",
              "      </button>\n",
              "      \n",
              "  <style>\n",
              "    .colab-df-container {\n",
              "      display:flex;\n",
              "      flex-wrap:wrap;\n",
              "      gap: 12px;\n",
              "    }\n",
              "\n",
              "    .colab-df-convert {\n",
              "      background-color: #E8F0FE;\n",
              "      border: none;\n",
              "      border-radius: 50%;\n",
              "      cursor: pointer;\n",
              "      display: none;\n",
              "      fill: #1967D2;\n",
              "      height: 32px;\n",
              "      padding: 0 0 0 0;\n",
              "      width: 32px;\n",
              "    }\n",
              "\n",
              "    .colab-df-convert:hover {\n",
              "      background-color: #E2EBFA;\n",
              "      box-shadow: 0px 1px 2px rgba(60, 64, 67, 0.3), 0px 1px 3px 1px rgba(60, 64, 67, 0.15);\n",
              "      fill: #174EA6;\n",
              "    }\n",
              "\n",
              "    [theme=dark] .colab-df-convert {\n",
              "      background-color: #3B4455;\n",
              "      fill: #D2E3FC;\n",
              "    }\n",
              "\n",
              "    [theme=dark] .colab-df-convert:hover {\n",
              "      background-color: #434B5C;\n",
              "      box-shadow: 0px 1px 3px 1px rgba(0, 0, 0, 0.15);\n",
              "      filter: drop-shadow(0px 1px 2px rgba(0, 0, 0, 0.3));\n",
              "      fill: #FFFFFF;\n",
              "    }\n",
              "  </style>\n",
              "\n",
              "      <script>\n",
              "        const buttonEl =\n",
              "          document.querySelector('#df-527d5862-50dd-43b6-b595-fd2e902e0cc8 button.colab-df-convert');\n",
              "        buttonEl.style.display =\n",
              "          google.colab.kernel.accessAllowed ? 'block' : 'none';\n",
              "\n",
              "        async function convertToInteractive(key) {\n",
              "          const element = document.querySelector('#df-527d5862-50dd-43b6-b595-fd2e902e0cc8');\n",
              "          const dataTable =\n",
              "            await google.colab.kernel.invokeFunction('convertToInteractive',\n",
              "                                                     [key], {});\n",
              "          if (!dataTable) return;\n",
              "\n",
              "          const docLinkHtml = 'Like what you see? Visit the ' +\n",
              "            '<a target=\"_blank\" href=https://colab.research.google.com/notebooks/data_table.ipynb>data table notebook</a>'\n",
              "            + ' to learn more about interactive tables.';\n",
              "          element.innerHTML = '';\n",
              "          dataTable['output_type'] = 'display_data';\n",
              "          await google.colab.output.renderOutput(dataTable, element);\n",
              "          const docLink = document.createElement('div');\n",
              "          docLink.innerHTML = docLinkHtml;\n",
              "          element.appendChild(docLink);\n",
              "        }\n",
              "      </script>\n",
              "    </div>\n",
              "  </div>\n",
              "  "
            ]
          },
          "metadata": {},
          "execution_count": 6
        }
      ]
    },
    {
      "cell_type": "code",
      "source": [
        "hybrid['code_words'].str.contains('public').value_counts()"
      ],
      "metadata": {
        "colab": {
          "base_uri": "https://localhost:8080/"
        },
        "id": "PLqaoY9_FIJZ",
        "outputId": "738ee881-6744-4fcf-d7ed-9717993ff65d"
      },
      "execution_count": 43,
      "outputs": [
        {
          "output_type": "execute_result",
          "data": {
            "text/plain": [
              "True     8959\n",
              "False    4068\n",
              "Name: code_words, dtype: int64"
            ]
          },
          "metadata": {},
          "execution_count": 43
        }
      ]
    },
    {
      "cell_type": "markdown",
      "source": [
        "## Avg length"
      ],
      "metadata": {
        "id": "dkoXCGIQQtVT"
      }
    },
    {
      "cell_type": "markdown",
      "source": [
        "### Avg length for test data"
      ],
      "metadata": {
        "id": "Ltt8Bzk5Qvlq"
      }
    },
    {
      "cell_type": "markdown",
      "source": [
        "#### nscjava\n"
      ],
      "metadata": {
        "id": "MXVXOzphSOJD"
      }
    },
    {
      "cell_type": "code",
      "source": [
        "code_words = pd.DataFrame([[]])\n",
        "for col in nscjava:\n",
        "    code_words['code_words'] = nscjava['code_words'].apply(len).mean()\n",
        "\n",
        "comment = pd.DataFrame([[]])\n",
        "for col in nscjava:\n",
        "    comment['comment'] = nscjava['comment'].apply(len).mean()\n",
        "\n",
        "print(code_words)\n",
        "print(comment)"
      ],
      "metadata": {
        "colab": {
          "base_uri": "https://localhost:8080/"
        },
        "id": "YC6ZOhy_KfHD",
        "outputId": "e9f2b3d4-1749-44b0-bf73-d8c600e728ca"
      },
      "execution_count": 31,
      "outputs": [
        {
          "output_type": "stream",
          "name": "stdout",
          "text": [
            "   code_words\n",
            "0  477.538445\n",
            "     comment\n",
            "0  91.987089\n"
          ]
        }
      ]
    },
    {
      "cell_type": "markdown",
      "source": [
        "#### codenn"
      ],
      "metadata": {
        "id": "rm8B2H9pTckn"
      }
    },
    {
      "cell_type": "code",
      "source": [
        "code_words = pd.DataFrame([[]])\n",
        "for col in codenn:\n",
        "    code_words['code_words'] = codenn['code_words'].apply(len).mean()\n",
        "\n",
        "comment = pd.DataFrame([[]])\n",
        "for col in codenn:\n",
        "    comment['comment'] = codenn['comment'].apply(len).mean()\n",
        "\n",
        "print(code_words)\n",
        "print(comment)"
      ],
      "metadata": {
        "colab": {
          "base_uri": "https://localhost:8080/"
        },
        "id": "4zVlaEU1TcSw",
        "outputId": "086ef940-9db7-42b7-9270-11a702a94f37"
      },
      "execution_count": 46,
      "outputs": [
        {
          "output_type": "stream",
          "name": "stdout",
          "text": [
            "   code_words\n",
            "0  249.889804\n",
            "    comment\n",
            "0  52.71741\n"
          ]
        }
      ]
    },
    {
      "cell_type": "markdown",
      "source": [
        "#### funcom1"
      ],
      "metadata": {
        "id": "X96OycQBSQO-"
      }
    },
    {
      "cell_type": "code",
      "source": [
        "code_words = pd.DataFrame([[]])\n",
        "for col in funcom1:\n",
        "    code_words['code_words'] = funcom1['code_words'].apply(len).mean()\n",
        "\n",
        "comment = pd.DataFrame([[]])\n",
        "for col in funcom1:\n",
        "    comment['comment'] = funcom1['comment'].apply(len).mean()\n",
        "\n",
        "print(code_words)\n",
        "print(comment)"
      ],
      "metadata": {
        "colab": {
          "base_uri": "https://localhost:8080/"
        },
        "id": "uXm-B2PRL3E0",
        "outputId": "f2e94947-de0a-48ed-a17e-fb8fe2bb8c5b"
      },
      "execution_count": 32,
      "outputs": [
        {
          "output_type": "stream",
          "name": "stdout",
          "text": [
            "   code_words\n",
            "0  174.538936\n",
            "     comment\n",
            "0  44.920448\n"
          ]
        }
      ]
    },
    {
      "cell_type": "markdown",
      "source": [
        "#### docstring"
      ],
      "metadata": {
        "id": "CHqUHU4kSSvG"
      }
    },
    {
      "cell_type": "code",
      "source": [
        "code_words = pd.DataFrame([[]])\n",
        "for col in docstring:\n",
        "    code_words['code_words'] = docstring['code_words'].apply(len).mean()\n",
        "\n",
        "comment = pd.DataFrame([[]])\n",
        "for col in docstring:\n",
        "    comment['comment'] = docstring['comment'].apply(len).mean()\n",
        "\n",
        "print(code_words)\n",
        "print(comment)"
      ],
      "metadata": {
        "colab": {
          "base_uri": "https://localhost:8080/"
        },
        "id": "l9KiJzKnL1U1",
        "outputId": "f6b1d799-9f9c-452d-a7ef-59fe7b111f87"
      },
      "execution_count": 33,
      "outputs": [
        {
          "output_type": "stream",
          "name": "stdout",
          "text": [
            "   code_words\n",
            "0  476.051228\n",
            "      comment\n",
            "0  294.813717\n"
          ]
        }
      ]
    },
    {
      "cell_type": "markdown",
      "source": [
        "#### hybrid"
      ],
      "metadata": {
        "id": "g_DomlCXSYFh"
      }
    },
    {
      "cell_type": "code",
      "source": [
        "code_words = pd.DataFrame([[]])\n",
        "for col in hybrid:\n",
        "    code_words['code_words'] = hybrid['code_words'].apply(len).mean()\n",
        "\n",
        "comment = pd.DataFrame([[]])\n",
        "for col in nscpy:\n",
        "    comment['comment'] = hybrid['comment'].apply(len).mean()\n",
        "\n",
        "print(code_words)\n",
        "print(comment)"
      ],
      "metadata": {
        "colab": {
          "base_uri": "https://localhost:8080/"
        },
        "id": "3WOiwsziMoiY",
        "outputId": "d67c96ff-294a-4a6f-c2ce-d80e6400d1f0"
      },
      "execution_count": 34,
      "outputs": [
        {
          "output_type": "stream",
          "name": "stdout",
          "text": [
            "   code_words\n",
            "0  221.441468\n",
            "     comment\n",
            "0  57.107469\n"
          ]
        }
      ]
    },
    {
      "cell_type": "markdown",
      "source": [
        "#### nscpy"
      ],
      "metadata": {
        "id": "uexF3_oiSLSN"
      }
    },
    {
      "cell_type": "code",
      "source": [
        "code_words = pd.DataFrame([[]])\n",
        "for col in nscpy:\n",
        "    code_words['code_words'] = nscpy['code_words'].apply(len).mean()\n",
        "\n",
        "comment = pd.DataFrame([[]])\n",
        "for col in nscpy:\n",
        "    comment['comment'] = nscjava['comment'].apply(len).mean()\n",
        "\n",
        "print(code_words)\n",
        "print(comment)"
      ],
      "metadata": {
        "colab": {
          "base_uri": "https://localhost:8080/"
        },
        "id": "fLBaMvO8FUmZ",
        "outputId": "41062376-1146-4eb1-c20f-af903ac6b7db"
      },
      "execution_count": 30,
      "outputs": [
        {
          "output_type": "stream",
          "name": "stdout",
          "text": [
            "   code_words\n",
            "0  285.065628\n",
            "     comment\n",
            "0  91.987089\n"
          ]
        }
      ]
    },
    {
      "cell_type": "markdown",
      "source": [
        "### Avg length for results"
      ],
      "metadata": {
        "id": "C7HIN0KDP7ep"
      }
    },
    {
      "cell_type": "markdown",
      "source": [
        "#### docstring result"
      ],
      "metadata": {
        "id": "8FytPuu9SbNU"
      }
    },
    {
      "cell_type": "code",
      "source": [
        "ref_comment = pd.DataFrame([[]])\n",
        "for col in docstring_res:\n",
        "    ref_comment['ref_comment'] = docstring_res['ref_df'].apply(len).mean()\n",
        "\n",
        "gen_comment = pd.DataFrame([[]])\n",
        "for col in docstring_res:\n",
        "    gen_comment['gen_comment'] = docstring_res['gen_df'].apply(len).mean()\n",
        "\n",
        "print(ref_comment)\n",
        "print(gen_comment)"
      ],
      "metadata": {
        "colab": {
          "base_uri": "https://localhost:8080/"
        },
        "id": "VOYyqDwlP_p2",
        "outputId": "e39e42c3-0eb9-40c1-b786-21be79fa8299"
      },
      "execution_count": 40,
      "outputs": [
        {
          "output_type": "stream",
          "name": "stdout",
          "text": [
            "   ref_comment\n",
            "0   294.813717\n",
            "   gen_comment\n",
            "0    58.354008\n"
          ]
        }
      ]
    },
    {
      "cell_type": "markdown",
      "source": [
        "#### funcom1 result"
      ],
      "metadata": {
        "id": "8YOragg6SetI"
      }
    },
    {
      "cell_type": "code",
      "source": [
        "ref_comment = pd.DataFrame([[]])\n",
        "for col in funcom1_res:\n",
        "    ref_comment['ref_comment'] = funcom1_res['ref_df'].apply(len).mean()\n",
        "\n",
        "gen_comment = pd.DataFrame([[]])\n",
        "for col in funcom1_res:\n",
        "    gen_comment['gen_comment'] = funcom1_res['gen_df'].apply(len).mean()\n",
        "\n",
        "print(ref_comment)\n",
        "print(gen_comment)"
      ],
      "metadata": {
        "colab": {
          "base_uri": "https://localhost:8080/"
        },
        "id": "KgkJUrjoP_mf",
        "outputId": "3de9a986-8945-4bab-b036-2f7b8d8ff4e5"
      },
      "execution_count": 41,
      "outputs": [
        {
          "output_type": "stream",
          "name": "stdout",
          "text": [
            "   ref_comment\n",
            "0    44.920448\n",
            "   gen_comment\n",
            "0    40.182073\n"
          ]
        }
      ]
    },
    {
      "cell_type": "markdown",
      "source": [
        "#### hybrid result"
      ],
      "metadata": {
        "id": "w16vhsPlSh9P"
      }
    },
    {
      "cell_type": "code",
      "source": [
        "ref_comment = pd.DataFrame([[]])\n",
        "for col in hybrid_res:\n",
        "    ref_comment['ref_comment'] = hybrid_res['ref_df'].apply(len).mean()\n",
        "\n",
        "gen_comment = pd.DataFrame([[]])\n",
        "for col in hybrid_res:\n",
        "    gen_comment['gen_comment'] = hybrid_res['gen_df'].apply(len).mean()\n",
        "\n",
        "print(ref_comment)\n",
        "print(gen_comment)"
      ],
      "metadata": {
        "colab": {
          "base_uri": "https://localhost:8080/"
        },
        "id": "98j68ycVP_j6",
        "outputId": "014ec741-1cd0-4538-d295-91cde6bc4d3c"
      },
      "execution_count": 42,
      "outputs": [
        {
          "output_type": "stream",
          "name": "stdout",
          "text": [
            "   ref_comment\n",
            "0    57.107469\n",
            "   gen_comment\n",
            "0    44.839794\n"
          ]
        }
      ]
    },
    {
      "cell_type": "markdown",
      "source": [
        "#### nscjava result\n"
      ],
      "metadata": {
        "id": "9bEVEIDeS0Ve"
      }
    },
    {
      "cell_type": "code",
      "source": [
        "ref_comment = pd.DataFrame([[]])\n",
        "for col in nscjava_res:\n",
        "    ref_comment['ref_comment'] = nscjava_res['ref_df'].apply(len).mean()\n",
        "\n",
        "gen_comment = pd.DataFrame([[]])\n",
        "for col in nscjava_res:\n",
        "    gen_comment['gen_comment'] = nscjava_res['gen_df'].apply(len).mean()\n",
        "\n",
        "print(ref_comment)\n",
        "print(gen_comment)"
      ],
      "metadata": {
        "colab": {
          "base_uri": "https://localhost:8080/"
        },
        "id": "rlmaEUE_P_H4",
        "outputId": "707fd30f-ba05-4d90-99a1-58e173bbcf40"
      },
      "execution_count": 51,
      "outputs": [
        {
          "output_type": "stream",
          "name": "stdout",
          "text": [
            "   ref_comment\n",
            "0    91.987089\n",
            "   gen_comment\n",
            "0     48.61885\n"
          ]
        }
      ]
    },
    {
      "cell_type": "markdown",
      "source": [
        "#### codenn"
      ],
      "metadata": {
        "id": "F3b_9YSbSyNp"
      }
    },
    {
      "cell_type": "code",
      "source": [
        "ref_comment = pd.DataFrame([[]])\n",
        "for col in codenn_res:\n",
        "    ref_comment['ref_comment'] = codenn_res['generated_comment'].apply(len).mean()\n",
        "\n",
        "gen_comment = pd.DataFrame([[]])\n",
        "for col in codenn_res:\n",
        "    gen_comment['gen_comment'] = codenn_res['reference_comment'].apply(len).mean()\n",
        "\n",
        "print(ref_comment)\n",
        "print(gen_comment)"
      ],
      "metadata": {
        "colab": {
          "base_uri": "https://localhost:8080/"
        },
        "id": "QU_ds_smP_dg",
        "outputId": "c5a279d9-26f2-4179-86a7-240bcaf7f9d5"
      },
      "execution_count": 49,
      "outputs": [
        {
          "output_type": "stream",
          "name": "stdout",
          "text": [
            "   ref_comment\n",
            "0    45.508378\n",
            "   gen_comment\n",
            "0     52.71741\n"
          ]
        }
      ]
    },
    {
      "cell_type": "markdown",
      "source": [
        "#### nscPy"
      ],
      "metadata": {
        "id": "8HOOgwiZRrAn"
      }
    },
    {
      "cell_type": "code",
      "source": [
        "ref_comment = pd.DataFrame([[]])\n",
        "for col in nscpy_res:\n",
        "    ref_comment['ref_df'] = nscpy_res['gen_df'].apply(len).mean()\n",
        "\n",
        "gen_comment = pd.DataFrame([[]])\n",
        "for col in nscpy_res:\n",
        "    gen_comment['gen_df'] = nscpy_res['ref_df'].apply(len).mean()\n",
        "\n",
        "print(ref_comment)\n",
        "print(gen_comment)"
      ],
      "metadata": {
        "colab": {
          "base_uri": "https://localhost:8080/"
        },
        "id": "pXFARmIpT3A7",
        "outputId": "571342ad-e672-466a-f125-b973e3ef5071"
      },
      "execution_count": 7,
      "outputs": [
        {
          "output_type": "stream",
          "name": "stdout",
          "text": [
            "      ref_df\n",
            "0  34.675999\n",
            "      gen_df\n",
            "0  52.307076\n"
          ]
        }
      ]
    },
    {
      "cell_type": "code",
      "source": [],
      "metadata": {
        "id": "pxClGSe4RyCh"
      },
      "execution_count": null,
      "outputs": []
    }
  ]
}