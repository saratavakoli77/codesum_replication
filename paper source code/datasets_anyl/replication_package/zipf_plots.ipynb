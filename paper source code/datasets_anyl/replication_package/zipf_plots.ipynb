{
  "nbformat": 4,
  "nbformat_minor": 0,
  "metadata": {
    "colab": {
      "name": "zipf_plotting_refactored.ipynb",
      "provenance": []
    },
    "kernelspec": {
      "display_name": "Python 3",
      "language": "python",
      "name": "python3"
    },
    "language_info": {
      "codemirror_mode": {
        "name": "ipython",
        "version": 3
      },
      "file_extension": ".py",
      "mimetype": "text/x-python",
      "name": "python",
      "nbconvert_exporter": "python",
      "pygments_lexer": "ipython3",
      "version": "3.7.5"
    },
    "pycharm": {
      "stem_cell": {
        "cell_type": "raw",
        "source": [],
        "metadata": {
          "collapsed": false
        }
      }
    }
  },
  "cells": [
    {
      "cell_type": "markdown",
      "metadata": {
        "colab_type": "text",
        "id": "QXsp9xKbqiKZ"
      },
      "source": [
        "This notebook will create figures (1) and (2) from the paper."
      ]
    },
    {
      "cell_type": "code",
      "metadata": {
        "colab_type": "code",
        "id": "xO1m3iN-Isdh",
        "pycharm": {
          "is_executing": true
        },
        "colab": {}
      },
      "source": [
        "import math\n",
        "import re\n",
        "import matplotlib.pyplot as plt\n",
        "import pickle\n",
        "import argparse"
      ],
      "execution_count": 2,
      "outputs": []
    },
    {
      "cell_type": "code",
      "metadata": {
        "id": "LqWGCHz3Ghba",
        "colab_type": "code",
        "colab": {}
      },
      "source": [
        "from typing import Callable, Dict"
      ],
      "execution_count": 3,
      "outputs": []
    },
    {
      "cell_type": "markdown",
      "metadata": {
        "colab_type": "text",
        "id": "LiQOKb2Cn6jm"
      },
      "source": [
        "A generic function to plot 2 variables in Zipf format within the same plot. We use the name of the raw input files as the labels."
      ]
    },
    {
      "cell_type": "code",
      "metadata": {
        "colab_type": "code",
        "id": "hbyqPNh4n4Uq",
        "pycharm": {
          "is_executing": true
        },
        "colab": {}
      },
      "source": [
        "def plot_zipf(title, x_label, y_label, x_axis_code, y_axis_code, x_axis_lang, y_axis_lang, legend_labels):\n",
        "    plt.title(title)\n",
        "    plt.xlabel(x_label)\n",
        "    plt.ylabel(y_label)\n",
        "    plt.plot(x_axis_code, y_axis_code, linewidth=2, color='r', label=legend_labels[0])\n",
        "    plt.plot(x_axis_lang, y_axis_lang, linewidth=2, color='b', label=legend_labels[1])\n",
        "    plt.xscale(\"log\")\n",
        "    plt.yscale(\"log\")\n",
        "    plt.legend(loc=\"upper right\")\n",
        "    plt.show()"
      ],
      "execution_count": 4,
      "outputs": []
    },
    {
      "cell_type": "markdown",
      "metadata": {
        "colab_type": "text",
        "id": "JMBNJ579o8p-"
      },
      "source": [
        "Sort the ngrams by their frequency, normalize the frequencies by the total token (or ngram) count, and plot on a log-scaled graph."
      ]
    },
    {
      "cell_type": "code",
      "metadata": {
        "colab_type": "code",
        "id": "0WUXrormn5sB",
        "pycharm": {
          "is_executing": true
        },
        "colab": {}
      },
      "source": [
        "def process_and_plot(processing_func: Callable, ngram_size: int, \n",
        "                    input_file_1: str, input_file_2: str, data_file_store_1: str, \n",
        "                    data_file_store_2: str):\n",
        "  \n",
        "    dict_input, input_token_count = processing_func(input_file_1, ngram_size)\n",
        "    dict_output, output_token_count = processing_func(input_file_2, ngram_size)\n",
        "    \n",
        "    \"\"\"\n",
        "    Here, we sort the ngrams by frequency, from largest to smallest.\n",
        "    \"\"\"\n",
        "    sorted_list_input = sorted(dict_input.items(), key=lambda item: item[1], reverse=True)\n",
        "    sorted_list_output = sorted(dict_output.items(), key=lambda item: item[1], reverse=True)\n",
        "\n",
        "    \"\"\"\n",
        "    Create indices for the plot, and divide by token count (total number of ngrams in dataset)\n",
        "    to get a true probability distribution.\n",
        "    \"\"\"\n",
        "    x_axis_input = [x+1 for x in range(len(sorted_list_input))]\n",
        "    y_axis_input = [[1.0 * item[1]/input_token_count] for item in sorted_list_input]\n",
        "\n",
        "    x_axis_output = [x+1 for x in range(len(sorted_list_output))]\n",
        "    y_axis_output = [[1.0 * item[1]/output_token_count] for item in sorted_list_output]\n",
        "\n",
        "    legend_labels = [input_file_1, input_file_2]\n",
        "\n",
        "    pickle.dump(y_axis_input, open(data_file_store_1, \"wb\"))\n",
        "    pickle.dump(y_axis_output, open(data_file_store_2, \"wb\"))\n",
        "\n",
        "    plot_zipf(\"Zipf Plot\", \"Log Freq Rank\", \"Log Freq\", x_axis_input, y_axis_input, x_axis_output, y_axis_output, legend_labels)"
      ],
      "execution_count": 5,
      "outputs": []
    },
    {
      "cell_type": "markdown",
      "metadata": {
        "colab_type": "text",
        "id": "skI0_W9mpIA6"
      },
      "source": [
        "These functions do the data collection for the 4 ngrams. The inner function parses the file (removing unnecesary tokens), and creates a dictionary where the key is the token and the associated value is the frequency of the token. We pass this data to `process_and_plot` for sorting and plotting."
      ]
    },
    {
      "cell_type": "code",
      "metadata": {
        "id": "a27lh_6mEJI4",
        "colab_type": "code",
        "colab": {}
      },
      "source": [
        "def plot_ngram_zipf(input_file_1: str, input_file_2: str, data_file_store_1: str, \n",
        "                    data_file_store_2: str, ngram_size: int):\n",
        "  \n",
        "  def process_ngrams(input_file: str, ngram_size: int):\n",
        "    ngram_count = 0\n",
        "    n_prev_tokens = []\n",
        "    ngram_dict = {}\n",
        "\n",
        "    with open(input_file) as f:\n",
        "      line = f.readline()\n",
        "      while line:\n",
        "        line = line.split(\" \")\n",
        "        prev_token = \"\"\n",
        "        n_prev_tokens = []\n",
        "        for token in line:\n",
        "            if token == \"\\n\":\n",
        "                break\n",
        "            \n",
        "            n_prev_tokens.append(token)\n",
        "            if len(n_prev_tokens) < ngram_size:\n",
        "              continue\n",
        "    \n",
        "            ngram_count+=1\n",
        "            cur_ngram = \"-\".join(n_prev_tokens)\n",
        "\n",
        "            if cur_ngram not in ngram_dict:\n",
        "                ngram_dict[cur_ngram] = 1\n",
        "            else:\n",
        "                ngram_dict[cur_ngram]+=1\n",
        "\n",
        "            del n_prev_tokens[0]\n",
        "\n",
        "        line = f.readline()\n",
        "\n",
        "    return ngram_dict, ngram_count\n",
        "  process_and_plot(process_ngrams, ngram_size, input_file_1, input_file_2, data_file_store_1, data_file_store_2)\n"
      ],
      "execution_count": 6,
      "outputs": []
    },
    {
      "cell_type": "markdown",
      "metadata": {
        "colab_type": "text",
        "id": "YeMPudE5682d"
      },
      "source": [
        "We have 5 changeable parameters here:\n",
        "\n",
        "*   `ngram -> The specified ngram. Allowed values: \"unigram\", \"bigram\", \"trigram\", \"tetragram\"`\n",
        "*   `data_file_1/data_file_2 -> Files where the data is located`\n",
        "*    `data_file_store_1/data_file_store_2 -> Files you want to save frequencies in pickle format (must be .p files)`\n",
        "\n",
        "\n",
        "NOTE: this function will calculate the zipf plots for two data files at a time, but will store pickle (.p) for you to accumulate all results into one graph."
      ]
    },
    {
      "cell_type": "code",
      "metadata": {
        "colab_type": "code",
        "id": "k57HT2Hdqtyl",
        "pycharm": {
          "is_executing": true
        },
        "colab": {
          "base_uri": "https://localhost:8080/",
          "height": 299
        },
        "outputId": "e4060947-702d-4cbe-e80d-0a7f389e5daa"
      },
      "source": [
        "ngram_size = 1\n",
        "\n",
        "# These data files correspond to the files you want to read from\n",
        "data_file_1 = \"CodeNN_comments.txt\" \n",
        "data_file_2 = \"NL_comments.txt\" \n",
        "\n",
        "# These files correspond to where you want to store the result pickle files\n",
        "# so that you can plot everything together.\n",
        "data_file_store_1 = \"CodeNN_unigrams.p\"\n",
        "data_file_store_2 = \"NL_unigrams.p\"\n",
        "\n",
        "plot_ngram_zipf(data_file_1, data_file_2, data_file_store_1, data_file_store_2, ngram_size)"
      ],
      "execution_count": 8,
      "outputs": [
        {
          "output_type": "display_data",
          "data": {
            "image/png": "[encoded data removed]",
            "text/plain": [
              "<Figure size 432x288 with 1 Axes>"
            ]
          },
          "metadata": {
            "tags": [],
            "needs_background": "light"
          }
        }
      ]
    },
    {
      "cell_type": "code",
      "metadata": {
        "id": "2bp7N4KGxnf3",
        "colab_type": "code",
        "colab": {}
      },
      "source": [
        ""
      ],
      "execution_count": null,
      "outputs": []
    }
  ]
}