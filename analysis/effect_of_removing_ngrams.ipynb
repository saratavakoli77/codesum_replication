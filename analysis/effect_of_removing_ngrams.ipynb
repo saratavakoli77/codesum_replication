{
 "cells": [
  {
   "cell_type": "markdown",
   "metadata": {
    "colab_type": "text",
    "id": "dMbh3B2iFqaB"
   },
   "source": [
    "This file helps reproduce figure (3) in the paper."
   ]
  },
  {
   "cell_type": "code",
   "execution_count": 1,
   "metadata": {
    "colab": {},
    "colab_type": "code",
    "id": "Edajb0tf8ohY"
   },
   "outputs": [],
   "source": [
    "import re\n",
    "import pickle\n",
    "import matplotlib.pyplot as plt\n",
    "import numpy as np\n",
    "import argparse\n",
    "\n",
    "import random\n",
    "import string\n",
    "\n",
    "from tqdm import tqdm\n",
    "\n",
    "from nltk.translate.bleu_score import sentence_bleu, corpus_bleu\n",
    "from nltk.translate.bleu_score import SmoothingFunction\n",
    "\n",
    "from typing import Callable, List"
   ]
  },
  {
   "cell_type": "code",
   "execution_count": 2,
   "metadata": {
    "colab": {},
    "colab_type": "code",
    "id": "hYxcA3bu97Hq"
   },
   "outputs": [],
   "source": [
    "smoothing = SmoothingFunction() # use NLTK's smoothing functionality"
   ]
  },
  {
   "cell_type": "code",
   "execution_count": 3,
   "metadata": {
    "colab": {},
    "colab_type": "code",
    "id": "2F7M3r63-BOE"
   },
   "outputs": [],
   "source": [
    "def create_random_token(): # a random pad token to insert into locations of various ngrams\n",
    "    N = 7\n",
    "    res = ''.join(random.choices(string.ascii_uppercase +\n",
    "                             string.digits, k = N)) \n",
    "\n",
    "    return res"
   ]
  },
  {
   "cell_type": "markdown",
   "metadata": {
    "colab_type": "text",
    "id": "6Fsv4-sn-Teu"
   },
   "source": [
    "This function returns a list of tuples of (ngram, frequency_of_ngram) for the ngram_size specified. We replace these common ngrams with random pad tokens and calculate BLEUs for the dropoff plots."
   ]
  },
  {
   "cell_type": "code",
   "execution_count": 4,
   "metadata": {
    "colab": {},
    "colab_type": "code",
    "id": "FyFoZHTokmjB"
   },
   "outputs": [],
   "source": [
    "def get_ngram_list(corpus_file_path: str, ngram_size: int):\n",
    "  ngram_dict_code = {}\n",
    "  with open(corpus_file_path) as f_1:\n",
    "    line = f_1.readline()\n",
    "    code_ngram_count = 0\n",
    "    while line:\n",
    "        line = line.split(\" \")\n",
    "        n_prev_tokens = []\n",
    "        for token in line:\n",
    "            if token == \"\\n\":\n",
    "                break\n",
    "\n",
    "            n_prev_tokens.append(token)\n",
    "            if len(n_prev_tokens) < ngram_size:\n",
    "                continue\n",
    "\n",
    "            code_ngram_count+=1\n",
    "            ngram = \"-\".join(n_prev_tokens)\n",
    "            \n",
    "            if ngram not in ngram_dict_code:\n",
    "                ngram_dict_code[ngram] = 1\n",
    "            else:\n",
    "                ngram_dict_code[ngram]+=1\n",
    "            del n_prev_tokens[0]\n",
    "        line = f_1.readline()\n",
    "  \n",
    "  sorted_list_code = sorted(ngram_dict_code.items(), key=lambda item: item[1], reverse=True)\n",
    "  return sorted_list_code\n"
   ]
  },
  {
   "cell_type": "markdown",
   "metadata": {
    "colab_type": "text",
    "id": "mw9YkCCp-_UT"
   },
   "source": [
    "The following function takes as input a line of text, a list of tokens (ngrams to remove), and an ngram_size. The function return an updated line with the removable tokens removed and replaced with a random pad token."
   ]
  },
  {
   "cell_type": "code",
   "execution_count": 5,
   "metadata": {
    "colab": {},
    "colab_type": "code",
    "id": "UFXQgpIGwDth"
   },
   "outputs": [],
   "source": [
    "def remove_ngrams_from_line(input_line: str, list_of_removable_ngrams: List[str], ngram_size: int) -> str:\n",
    "    input_line_split = input_line.split(\" \")\n",
    "    new_input_line = []\n",
    "    n_prev_tokens = [] # list of n previous tokens\n",
    "\n",
    "    for token in input_line_split:\n",
    "\n",
    "        n_prev_tokens.append(token)\n",
    "        new_input_line.append(token)\n",
    "\n",
    "        if len(n_prev_tokens) < ngram_size:\n",
    "          continue\n",
    "        else:\n",
    "          cur_ngram = \"-\".join(n_prev_tokens)\n",
    "\n",
    "        if cur_ngram in list_of_removable_ngrams:\n",
    "            for i in range(1, ngram_size+1): # the current token has already been appended\n",
    "              new_input_line[-i] = create_random_token()\n",
    "\n",
    "        del n_prev_tokens[0]\n",
    "\n",
    "    return new_input_line"
   ]
  },
  {
   "cell_type": "markdown",
   "metadata": {
    "colab_type": "text",
    "id": "5V_jUJqWEWuH"
   },
   "source": [
    "The function `compute_and_plot` has five parameters:\n",
    "\n",
    "*   `file_path` -> the location of the .txt file\n",
    "*   `ngram_size` -> an integer representing the size of the ngram. e.g. ngram_size = 3 represents a trigram\n",
    "*   `pickle_file_path` -> the location to store the plotting data in a pickle file\n",
    "*   `num_iters` -> number of tokens (ngrams) to remove\n",
    "\n",
    "\n"
   ]
  },
  {
   "cell_type": "code",
   "execution_count": 9,
   "metadata": {},
   "outputs": [],
   "source": [
    "def calc(num_iters, file_path, sorted_list, ngram_size):\n",
    "    output_list = []\n",
    "    for i in tqdm(range(num_iters)):\n",
    "        in_f1 = open(file_path, \"r\")\n",
    "        in_f2 = open(file_path, \"r\")\n",
    "        list_of_removable_ngrams = [tuple_link[0] for tuple_link in sorted_list[0:i]]\n",
    "        line1 = in_f1.readline()\n",
    "        line2 = in_f2.readline()\n",
    "        total_bleu = 0\n",
    "        cnt = 0\n",
    "        while line1:\n",
    "            line1 = remove_ngrams_from_line(line1, list_of_removable_ngrams, ngram_size)\n",
    "            sentence_bleu_score = sentence_bleu([line2.split(\" \")], line1, \n",
    "                                                weights=(0.25,0.25,0.25,0.25), \n",
    "                                                smoothing_function=smoothing.method2)\n",
    "            total_bleu = total_bleu + sentence_bleu_score\n",
    "            line1 = in_f1.readline()\n",
    "            line2 = in_f2.readline()\n",
    "            cnt = cnt + 1\n",
    "\n",
    "        bleu_score = total_bleu / cnt\n",
    "        output_list.append(bleu_score)\n",
    "    return output_list"
   ]
  },
  {
   "cell_type": "code",
   "execution_count": 11,
   "metadata": {
    "colab": {},
    "colab_type": "code",
    "id": "mILf3QqxA-pt"
   },
   "outputs": [],
   "source": [
    "def compute_and_plot(file_path: str, file_path2, file_path3, file_path4, file_path5, file_path6, file_path7, file_path8,\n",
    "                     ngram_size: int, \n",
    "                     pickle_file_path: str, pickle_file_path2, pickle_file_path3, pickle_file_path4, pickle_file_path5, pickle_file_path6, pickle_file_path7, pickle_file_path8,\n",
    "                     num_iters: int=100):\n",
    "    indices = [i for i in range(num_iters)]\n",
    "    \n",
    "    sorted_list = get_ngram_list(file_path, ngram_size)\n",
    "    output_list = calc(num_iters, file_path, sorted_list, ngram_size)\n",
    "    pickle.dump(output_list, open(pickle_file_path, \"wb\"))\n",
    "    \n",
    "    sorted_list2 = get_ngram_list(file_path2, ngram_size)\n",
    "    output_list2 = calc(num_iters, file_path2, sorted_list2, ngram_size)\n",
    "    pickle.dump(output_list2, open(pickle_file_path2, \"wb\"))\n",
    "    \n",
    "    sorted_list3 = get_ngram_list(file_path3, ngram_size)\n",
    "    output_list3 = calc(num_iters, file_path3, sorted_list3, ngram_size)\n",
    "    pickle.dump(output_list3, open(pickle_file_path3, \"wb\"))\n",
    "    \n",
    "    sorted_list4 = get_ngram_list(file_path4, ngram_size)\n",
    "    output_list4 = calc(num_iters, file_path4, sorted_list4, ngram_size)\n",
    "    pickle.dump(output_list4, open(pickle_file_path4, \"wb\"))\n",
    "    \n",
    "    sorted_list5 = get_ngram_list(file_path5, ngram_size)\n",
    "    output_list5 = calc(num_iters, file_path5, sorted_list5, ngram_size)\n",
    "    pickle.dump(output_list5, open(pickle_file_path5, \"wb\"))\n",
    "    \n",
    "    sorted_list6 = get_ngram_list(file_path6, ngram_size)\n",
    "    output_list6 = calc(num_iters, file_path6, sorted_list6, ngram_size)\n",
    "    pickle.dump(output_list6, open(pickle_file_path6, \"wb\"))\n",
    "    \n",
    "    sorted_list7 = get_ngram_list(file_path7, ngram_size)\n",
    "    output_list7 = calc(num_iters, file_path7, sorted_list7, ngram_size)\n",
    "    pickle.dump(output_list7, open(pickle_file_path7, \"wb\"))\n",
    "    \n",
    "    sorted_list8 = get_ngram_list(file_path8, ngram_size)\n",
    "    output_list8 = calc(num_iters, file_path8, sorted_list8, ngram_size)\n",
    "    pickle.dump(output_list8, open(pickle_file_path8, \"wb\"))\n",
    "\n",
    "    plt.title(\"BLEU-4 Dropoff Scores\")\n",
    "    plt.xlabel(\"Number of most common ngrams stripped\")\n",
    "    plt.ylabel(\"BLEU-4 score\")\n",
    "    plt.plot(indices, output_list, linewidth=2, color='r')\n",
    "    plt.plot(indices, output_list2, linewidth=2, color='b')\n",
    "    plt.plot(indices, output_list3, linewidth=2, color='y')\n",
    "    plt.plot(indices, output_list4, linewidth=2, color='k')\n",
    "    plt.plot(indices, output_list6, linewidth=2, color='gray')\n",
    "    plt.plot(indices, output_list7, linewidth=2, color='g')\n",
    "    plt.plot(indices, output_list8, linewidth=2, color='c')\n",
    "    plt.show()"
   ]
  },
  {
   "cell_type": "markdown",
   "metadata": {
    "colab_type": "text",
    "id": "zPNpOvMxFXAe"
   },
   "source": [
    "Here, we have four changeable parameters:\n",
    "\n",
    "*   `num_iters`\n",
    "*   `n_gram`\n",
    "*   `file_path`\n",
    "*   `pickle_file_path`\n",
    "\n",
    "These details of these parameters covered above."
   ]
  },
  {
   "cell_type": "code",
   "execution_count": 13,
   "metadata": {
    "colab": {},
    "colab_type": "code",
    "id": "UvpAl7YABHuD"
   },
   "outputs": [
    {
     "name": "stderr",
     "output_type": "stream",
     "text": [
      "100%|█████████████████████████████████████████| 100/100 [00:25<00:00,  3.96it/s]\n",
      "100%|█████████████████████████████████████████| 100/100 [00:35<00:00,  2.83it/s]\n",
      "100%|█████████████████████████████████████████| 100/100 [00:26<00:00,  3.85it/s]\n",
      "100%|█████████████████████████████████████████| 100/100 [01:32<00:00,  1.09it/s]\n",
      "100%|█████████████████████████████████████████| 100/100 [00:24<00:00,  4.07it/s]\n",
      "100%|█████████████████████████████████████████| 100/100 [00:22<00:00,  4.50it/s]\n",
      "100%|█████████████████████████████████████████| 100/100 [00:22<00:00,  4.51it/s]\n",
      "100%|█████████████████████████████████████████| 100/100 [00:46<00:00,  2.13it/s]\n"
     ]
    },
    {
     "data": {
      "image/png": "[encoded data removed]",
      "text/plain": [
       "<Figure size 432x288 with 1 Axes>"
      ]
     },
     "metadata": {
      "needs_background": "light"
     },
     "output_type": "display_data"
    }
   ],
   "source": [
    "# changeable parameters\n",
    "file_path1 = \"../../data/plot-data/univariate/CodeNN_comments.txt\"\n",
    "file_path2 = \"../../data/plot-data/univariate/DeepCom1_comments.txt\"\n",
    "file_path3 = \"../../data/plot-data/univariate/DeepCom2_comments.txt\"\n",
    "file_path4 = \"../../data/plot-data/univariate/Docstring1_comments.txt\"\n",
    "file_path5 = \"../../data/plot-data/univariate/Docstring2_comments.txt\"\n",
    "file_path6 = \"../../data/plot-data/univariate/FunCom1_comments.txt\"\n",
    "file_path7 = \"../../data/plot-data/univariate/FunCom2_comments.txt\"\n",
    "file_path8 = \"../../data/plot-data/univariate/NL_comments.txt\"\n",
    "\n",
    "ngram_size = 3\n",
    "pickle_file_path1 = \"codenn_trigram.p\" # must be a .p file\n",
    "pickle_file_path2 = \"deepcom1_trigram.p\" # must be a .p file\n",
    "pickle_file_path3 = \"deepcom2_trigram.p\" # must be a .p file\n",
    "pickle_file_path4 = \"docstring1_trigram.p\" # must be a .p file\n",
    "pickle_file_path5 = \"docstring2_trigram.p\" # must be a .p file\n",
    "pickle_file_path6 = \"funcom1_trigram.p\" # must be a .p file\n",
    "pickle_file_path7 = \"funcom2_trigram.p\" # must be a .p file\n",
    "pickle_file_path8 = \"nl_trigram.p\" # must be a .p file\n",
    "\n",
    "num_iters = 100\n",
    "\n",
    "compute_and_plot(file_path1, file_path2, file_path3, file_path4, file_path5, file_path6, \n",
    "                 file_path7, file_path8, ngram_size, \n",
    "                 pickle_file_path1, pickle_file_path2, pickle_file_path3, pickle_file_path4, pickle_file_path5,\n",
    "                 pickle_file_path6, pickle_file_path7, pickle_file_path8,\n",
    "                 num_iters)"
   ]
  },
  {
   "cell_type": "code",
   "execution_count": null,
   "metadata": {},
   "outputs": [],
   "source": []
  }
 ],
 "metadata": {
  "colab": {
   "collapsed_sections": [],
   "name": "dropoff_plots.ipynb",
   "provenance": []
  },
  "kernelspec": {
   "display_name": "Python 3 (ipykernel)",
   "language": "python",
   "name": "python3"
  },
  "language_info": {
   "codemirror_mode": {
    "name": "ipython",
    "version": 3
   },
   "file_extension": ".py",
   "mimetype": "text/x-python",
   "name": "python",
   "nbconvert_exporter": "python",
   "pygments_lexer": "ipython3",
   "version": "3.9.6"
  },
  "pycharm": {
   "stem_cell": {
    "cell_type": "raw",
    "metadata": {
     "collapsed": false
    },
    "source": []
   }
  }
 },
 "nbformat": 4,
 "nbformat_minor": 1
}
